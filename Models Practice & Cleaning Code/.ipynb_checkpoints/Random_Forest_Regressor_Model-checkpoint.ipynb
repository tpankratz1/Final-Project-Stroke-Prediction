{
 "cells": [
  {
   "cell_type": "code",
   "execution_count": 1,
   "metadata": {},
   "outputs": [],
   "source": [
    "# Import dependencies\n",
    "import pandas as pd\n",
    "import numpy as np\n",
    "from sklearn.model_selection import train_test_split\n",
    "from sklearn.preprocessing import StandardScaler,OneHotEncoder\n",
    "%matplotlib inline\n",
    "import matplotlib.pyplot as plt\n",
    "import pickle"
   ]
  },
  {
   "cell_type": "code",
   "execution_count": 3,
   "metadata": {
    "colab": {
     "base_uri": "https://localhost:8080/"
    },
    "id": "zA9AXxkX8G1B",
    "outputId": "0d9fb0d6-d9de-4111-805a-5c9c277f9203"
   },
   "outputs": [
    {
     "data": {
      "text/html": [
       "<div>\n",
       "<style scoped>\n",
       "    .dataframe tbody tr th:only-of-type {\n",
       "        vertical-align: middle;\n",
       "    }\n",
       "\n",
       "    .dataframe tbody tr th {\n",
       "        vertical-align: top;\n",
       "    }\n",
       "\n",
       "    .dataframe thead th {\n",
       "        text-align: right;\n",
       "    }\n",
       "</style>\n",
       "<table border=\"1\" class=\"dataframe\">\n",
       "  <thead>\n",
       "    <tr style=\"text-align: right;\">\n",
       "      <th></th>\n",
       "      <th>FIPS</th>\n",
       "      <th>Num_Per_100k</th>\n",
       "      <th>State</th>\n",
       "      <th>County</th>\n",
       "      <th>Percent_Smokers</th>\n",
       "      <th>Percent_Obese</th>\n",
       "      <th>Food_Environment_Index</th>\n",
       "      <th>Percent_Access_Exercise</th>\n",
       "      <th>Primary_Care_Physician_Rate</th>\n",
       "      <th>Mental_Health_Providers_Rate</th>\n",
       "      <th>Percent_Some_College</th>\n",
       "      <th>Percent_Unemployed</th>\n",
       "      <th>Income_Inequality_Ratio</th>\n",
       "      <th>Violent_Crime_Rate</th>\n",
       "      <th>Average_Daily_Air_Polution_Particle_Matter</th>\n",
       "      <th>Percent_Long_Commute_Drives_Alone</th>\n",
       "      <th>Percent_Rural</th>\n",
       "    </tr>\n",
       "  </thead>\n",
       "  <tbody>\n",
       "    <tr>\n",
       "      <th>0</th>\n",
       "      <td>1001</td>\n",
       "      <td>107.0</td>\n",
       "      <td>Alabama</td>\n",
       "      <td>Autauga</td>\n",
       "      <td>19.0</td>\n",
       "      <td>36.0</td>\n",
       "      <td>7.1</td>\n",
       "      <td>71.0</td>\n",
       "      <td>45.0</td>\n",
       "      <td>13.0</td>\n",
       "      <td>61.9</td>\n",
       "      <td>5.3</td>\n",
       "      <td>4.4</td>\n",
       "      <td>266.0</td>\n",
       "      <td>10.8</td>\n",
       "      <td>41.0</td>\n",
       "      <td>42.0</td>\n",
       "    </tr>\n",
       "    <tr>\n",
       "      <th>1</th>\n",
       "      <td>1003</td>\n",
       "      <td>82.5</td>\n",
       "      <td>Alabama</td>\n",
       "      <td>Baldwin</td>\n",
       "      <td>17.0</td>\n",
       "      <td>29.0</td>\n",
       "      <td>7.9</td>\n",
       "      <td>69.0</td>\n",
       "      <td>73.0</td>\n",
       "      <td>89.0</td>\n",
       "      <td>63.8</td>\n",
       "      <td>5.4</td>\n",
       "      <td>4.6</td>\n",
       "      <td>217.0</td>\n",
       "      <td>9.6</td>\n",
       "      <td>40.0</td>\n",
       "      <td>42.3</td>\n",
       "    </tr>\n",
       "    <tr>\n",
       "      <th>2</th>\n",
       "      <td>1005</td>\n",
       "      <td>96.1</td>\n",
       "      <td>Alabama</td>\n",
       "      <td>Barbour</td>\n",
       "      <td>22.0</td>\n",
       "      <td>44.0</td>\n",
       "      <td>5.5</td>\n",
       "      <td>53.0</td>\n",
       "      <td>42.0</td>\n",
       "      <td>8.0</td>\n",
       "      <td>39.7</td>\n",
       "      <td>8.6</td>\n",
       "      <td>5.9</td>\n",
       "      <td>329.0</td>\n",
       "      <td>10.1</td>\n",
       "      <td>35.0</td>\n",
       "      <td>67.8</td>\n",
       "    </tr>\n",
       "    <tr>\n",
       "      <th>3</th>\n",
       "      <td>1007</td>\n",
       "      <td>112.3</td>\n",
       "      <td>Alabama</td>\n",
       "      <td>Bibb</td>\n",
       "      <td>20.0</td>\n",
       "      <td>38.0</td>\n",
       "      <td>7.6</td>\n",
       "      <td>49.0</td>\n",
       "      <td>53.0</td>\n",
       "      <td>9.0</td>\n",
       "      <td>49.8</td>\n",
       "      <td>6.6</td>\n",
       "      <td>4.2</td>\n",
       "      <td>147.0</td>\n",
       "      <td>10.5</td>\n",
       "      <td>49.0</td>\n",
       "      <td>68.4</td>\n",
       "    </tr>\n",
       "    <tr>\n",
       "      <th>4</th>\n",
       "      <td>1009</td>\n",
       "      <td>96.1</td>\n",
       "      <td>Alabama</td>\n",
       "      <td>Blount</td>\n",
       "      <td>20.0</td>\n",
       "      <td>36.0</td>\n",
       "      <td>8.5</td>\n",
       "      <td>32.0</td>\n",
       "      <td>21.0</td>\n",
       "      <td>9.0</td>\n",
       "      <td>53.9</td>\n",
       "      <td>5.5</td>\n",
       "      <td>4.1</td>\n",
       "      <td>212.0</td>\n",
       "      <td>11.3</td>\n",
       "      <td>60.0</td>\n",
       "      <td>90.0</td>\n",
       "    </tr>\n",
       "  </tbody>\n",
       "</table>\n",
       "</div>"
      ],
      "text/plain": [
       "   FIPS  Num_Per_100k    State   County  Percent_Smokers  Percent_Obese  \\\n",
       "0  1001         107.0  Alabama  Autauga             19.0           36.0   \n",
       "1  1003          82.5  Alabama  Baldwin             17.0           29.0   \n",
       "2  1005          96.1  Alabama  Barbour             22.0           44.0   \n",
       "3  1007         112.3  Alabama     Bibb             20.0           38.0   \n",
       "4  1009          96.1  Alabama   Blount             20.0           36.0   \n",
       "\n",
       "   Food_Environment_Index  Percent_Access_Exercise  \\\n",
       "0                     7.1                     71.0   \n",
       "1                     7.9                     69.0   \n",
       "2                     5.5                     53.0   \n",
       "3                     7.6                     49.0   \n",
       "4                     8.5                     32.0   \n",
       "\n",
       "   Primary_Care_Physician_Rate  Mental_Health_Providers_Rate  \\\n",
       "0                         45.0                          13.0   \n",
       "1                         73.0                          89.0   \n",
       "2                         42.0                           8.0   \n",
       "3                         53.0                           9.0   \n",
       "4                         21.0                           9.0   \n",
       "\n",
       "   Percent_Some_College  Percent_Unemployed  Income_Inequality_Ratio  \\\n",
       "0                  61.9                 5.3                      4.4   \n",
       "1                  63.8                 5.4                      4.6   \n",
       "2                  39.7                 8.6                      5.9   \n",
       "3                  49.8                 6.6                      4.2   \n",
       "4                  53.9                 5.5                      4.1   \n",
       "\n",
       "   Violent_Crime_Rate  Average_Daily_Air_Polution_Particle_Matter  \\\n",
       "0               266.0                                        10.8   \n",
       "1               217.0                                         9.6   \n",
       "2               329.0                                        10.1   \n",
       "3               147.0                                        10.5   \n",
       "4               212.0                                        11.3   \n",
       "\n",
       "   Percent_Long_Commute_Drives_Alone  Percent_Rural  \n",
       "0                               41.0           42.0  \n",
       "1                               40.0           42.3  \n",
       "2                               35.0           67.8  \n",
       "3                               49.0           68.4  \n",
       "4                               60.0           90.0  "
      ]
     },
     "execution_count": 3,
     "metadata": {},
     "output_type": "execute_result"
    }
   ],
   "source": [
    "# Read the data\n",
    "all_data_df = pd.read_csv(\"../Data/All_Data.csv\")\n",
    "all_data_df.head()"
   ]
  },
  {
   "cell_type": "code",
   "execution_count": 4,
   "metadata": {
    "colab": {
     "base_uri": "https://localhost:8080/"
    },
    "id": "SImMbQ008ScQ",
    "outputId": "c1455eec-0f3c-4cb3-952b-2b441286a072"
   },
   "outputs": [
    {
     "data": {
      "text/plain": [
       "(3142, 17)"
      ]
     },
     "execution_count": 4,
     "metadata": {},
     "output_type": "execute_result"
    }
   ],
   "source": [
    "# Calculate the total number of rows and columns\n",
    "all_data_df.shape"
   ]
  },
  {
   "cell_type": "code",
   "execution_count": 5,
   "metadata": {
    "colab": {
     "base_uri": "https://localhost:8080/"
    },
    "id": "QlVQU8O_8Y84",
    "outputId": "542aed4d-5e62-44ca-e87e-948dc7fa7d16"
   },
   "outputs": [
    {
     "data": {
      "text/plain": [
       "FIPS                                            0\n",
       "Num_Per_100k                                    7\n",
       "State                                           0\n",
       "County                                          0\n",
       "Percent_Smokers                                 0\n",
       "Percent_Obese                                   0\n",
       "Food_Environment_Index                         19\n",
       "Percent_Access_Exercise                         6\n",
       "Primary_Care_Physician_Rate                   134\n",
       "Mental_Health_Providers_Rate                  264\n",
       "Percent_Some_College                            0\n",
       "Percent_Unemployed                              1\n",
       "Income_Inequality_Ratio                         2\n",
       "Violent_Crime_Rate                            176\n",
       "Average_Daily_Air_Polution_Particle_Matter     34\n",
       "Percent_Long_Commute_Drives_Alone               0\n",
       "Percent_Rural                                   7\n",
       "dtype: int64"
      ]
     },
     "execution_count": 5,
     "metadata": {},
     "output_type": "execute_result"
    }
   ],
   "source": [
    "# Check for null values\n",
    "all_data_df.isnull().sum()"
   ]
  },
  {
   "cell_type": "code",
   "execution_count": 6,
   "metadata": {
    "id": "CkowY4mV8bhH"
   },
   "outputs": [],
   "source": [
    "# Drop null values\n",
    "all_data_df = all_data_df.dropna(axis=0)"
   ]
  },
  {
   "cell_type": "code",
   "execution_count": 7,
   "metadata": {
    "colab": {
     "base_uri": "https://localhost:8080/",
     "height": 305
    },
    "id": "cAQukka68eNP",
    "outputId": "7119c27e-7b33-4747-ccf2-ffac746b0099"
   },
   "outputs": [
    {
     "name": "stderr",
     "output_type": "stream",
     "text": [
      "/var/folders/73/r2ypb6197z34qqk9hr4zj9900000gn/T/ipykernel_39675/1828287075.py:2: FutureWarning: In a future version of pandas all arguments of DataFrame.drop except for the argument 'labels' will be keyword-only\n",
      "  all_data_usable_df = all_data_df.drop([\"FIPS\", \"State\", \"County\"], 1)\n"
     ]
    },
    {
     "data": {
      "text/html": [
       "<div>\n",
       "<style scoped>\n",
       "    .dataframe tbody tr th:only-of-type {\n",
       "        vertical-align: middle;\n",
       "    }\n",
       "\n",
       "    .dataframe tbody tr th {\n",
       "        vertical-align: top;\n",
       "    }\n",
       "\n",
       "    .dataframe thead th {\n",
       "        text-align: right;\n",
       "    }\n",
       "</style>\n",
       "<table border=\"1\" class=\"dataframe\">\n",
       "  <thead>\n",
       "    <tr style=\"text-align: right;\">\n",
       "      <th></th>\n",
       "      <th>Num_Per_100k</th>\n",
       "      <th>Percent_Smokers</th>\n",
       "      <th>Percent_Obese</th>\n",
       "      <th>Food_Environment_Index</th>\n",
       "      <th>Percent_Access_Exercise</th>\n",
       "      <th>Primary_Care_Physician_Rate</th>\n",
       "      <th>Mental_Health_Providers_Rate</th>\n",
       "      <th>Percent_Some_College</th>\n",
       "      <th>Percent_Unemployed</th>\n",
       "      <th>Income_Inequality_Ratio</th>\n",
       "      <th>Violent_Crime_Rate</th>\n",
       "      <th>Average_Daily_Air_Polution_Particle_Matter</th>\n",
       "      <th>Percent_Long_Commute_Drives_Alone</th>\n",
       "      <th>Percent_Rural</th>\n",
       "    </tr>\n",
       "  </thead>\n",
       "  <tbody>\n",
       "    <tr>\n",
       "      <th>0</th>\n",
       "      <td>107.0</td>\n",
       "      <td>19.0</td>\n",
       "      <td>36.0</td>\n",
       "      <td>7.1</td>\n",
       "      <td>71.0</td>\n",
       "      <td>45.0</td>\n",
       "      <td>13.0</td>\n",
       "      <td>61.9</td>\n",
       "      <td>5.3</td>\n",
       "      <td>4.4</td>\n",
       "      <td>266.0</td>\n",
       "      <td>10.8</td>\n",
       "      <td>41.0</td>\n",
       "      <td>42.0</td>\n",
       "    </tr>\n",
       "    <tr>\n",
       "      <th>1</th>\n",
       "      <td>82.5</td>\n",
       "      <td>17.0</td>\n",
       "      <td>29.0</td>\n",
       "      <td>7.9</td>\n",
       "      <td>69.0</td>\n",
       "      <td>73.0</td>\n",
       "      <td>89.0</td>\n",
       "      <td>63.8</td>\n",
       "      <td>5.4</td>\n",
       "      <td>4.6</td>\n",
       "      <td>217.0</td>\n",
       "      <td>9.6</td>\n",
       "      <td>40.0</td>\n",
       "      <td>42.3</td>\n",
       "    </tr>\n",
       "    <tr>\n",
       "      <th>2</th>\n",
       "      <td>96.1</td>\n",
       "      <td>22.0</td>\n",
       "      <td>44.0</td>\n",
       "      <td>5.5</td>\n",
       "      <td>53.0</td>\n",
       "      <td>42.0</td>\n",
       "      <td>8.0</td>\n",
       "      <td>39.7</td>\n",
       "      <td>8.6</td>\n",
       "      <td>5.9</td>\n",
       "      <td>329.0</td>\n",
       "      <td>10.1</td>\n",
       "      <td>35.0</td>\n",
       "      <td>67.8</td>\n",
       "    </tr>\n",
       "    <tr>\n",
       "      <th>3</th>\n",
       "      <td>112.3</td>\n",
       "      <td>20.0</td>\n",
       "      <td>38.0</td>\n",
       "      <td>7.6</td>\n",
       "      <td>49.0</td>\n",
       "      <td>53.0</td>\n",
       "      <td>9.0</td>\n",
       "      <td>49.8</td>\n",
       "      <td>6.6</td>\n",
       "      <td>4.2</td>\n",
       "      <td>147.0</td>\n",
       "      <td>10.5</td>\n",
       "      <td>49.0</td>\n",
       "      <td>68.4</td>\n",
       "    </tr>\n",
       "    <tr>\n",
       "      <th>4</th>\n",
       "      <td>96.1</td>\n",
       "      <td>20.0</td>\n",
       "      <td>36.0</td>\n",
       "      <td>8.5</td>\n",
       "      <td>32.0</td>\n",
       "      <td>21.0</td>\n",
       "      <td>9.0</td>\n",
       "      <td>53.9</td>\n",
       "      <td>5.5</td>\n",
       "      <td>4.1</td>\n",
       "      <td>212.0</td>\n",
       "      <td>11.3</td>\n",
       "      <td>60.0</td>\n",
       "      <td>90.0</td>\n",
       "    </tr>\n",
       "  </tbody>\n",
       "</table>\n",
       "</div>"
      ],
      "text/plain": [
       "   Num_Per_100k  Percent_Smokers  Percent_Obese  Food_Environment_Index  \\\n",
       "0         107.0             19.0           36.0                     7.1   \n",
       "1          82.5             17.0           29.0                     7.9   \n",
       "2          96.1             22.0           44.0                     5.5   \n",
       "3         112.3             20.0           38.0                     7.6   \n",
       "4          96.1             20.0           36.0                     8.5   \n",
       "\n",
       "   Percent_Access_Exercise  Primary_Care_Physician_Rate  \\\n",
       "0                     71.0                         45.0   \n",
       "1                     69.0                         73.0   \n",
       "2                     53.0                         42.0   \n",
       "3                     49.0                         53.0   \n",
       "4                     32.0                         21.0   \n",
       "\n",
       "   Mental_Health_Providers_Rate  Percent_Some_College  Percent_Unemployed  \\\n",
       "0                          13.0                  61.9                 5.3   \n",
       "1                          89.0                  63.8                 5.4   \n",
       "2                           8.0                  39.7                 8.6   \n",
       "3                           9.0                  49.8                 6.6   \n",
       "4                           9.0                  53.9                 5.5   \n",
       "\n",
       "   Income_Inequality_Ratio  Violent_Crime_Rate  \\\n",
       "0                      4.4               266.0   \n",
       "1                      4.6               217.0   \n",
       "2                      5.9               329.0   \n",
       "3                      4.2               147.0   \n",
       "4                      4.1               212.0   \n",
       "\n",
       "   Average_Daily_Air_Polution_Particle_Matter  \\\n",
       "0                                        10.8   \n",
       "1                                         9.6   \n",
       "2                                        10.1   \n",
       "3                                        10.5   \n",
       "4                                        11.3   \n",
       "\n",
       "   Percent_Long_Commute_Drives_Alone  Percent_Rural  \n",
       "0                               41.0           42.0  \n",
       "1                               40.0           42.3  \n",
       "2                               35.0           67.8  \n",
       "3                               49.0           68.4  \n",
       "4                               60.0           90.0  "
      ]
     },
     "execution_count": 7,
     "metadata": {},
     "output_type": "execute_result"
    }
   ],
   "source": [
    "# Drop identifier columns\n",
    "all_data_usable_df = all_data_df.drop([\"FIPS\", \"State\", \"County\"], 1)\n",
    "all_data_usable_df.head()"
   ]
  },
  {
   "cell_type": "code",
   "execution_count": 8,
   "metadata": {
    "colab": {
     "base_uri": "https://localhost:8080/"
    },
    "id": "vAbtNwHx8gCn",
    "outputId": "003c589b-e44b-4759-e7e4-95b7ce8b0489"
   },
   "outputs": [
    {
     "data": {
      "text/plain": [
       "Num_Per_100k                                  0\n",
       "Percent_Smokers                               0\n",
       "Percent_Obese                                 0\n",
       "Food_Environment_Index                        0\n",
       "Percent_Access_Exercise                       0\n",
       "Primary_Care_Physician_Rate                   0\n",
       "Mental_Health_Providers_Rate                  0\n",
       "Percent_Some_College                          0\n",
       "Percent_Unemployed                            0\n",
       "Income_Inequality_Ratio                       0\n",
       "Violent_Crime_Rate                            0\n",
       "Average_Daily_Air_Polution_Particle_Matter    0\n",
       "Percent_Long_Commute_Drives_Alone             0\n",
       "Percent_Rural                                 0\n",
       "dtype: int64"
      ]
     },
     "execution_count": 8,
     "metadata": {},
     "output_type": "execute_result"
    }
   ],
   "source": [
    "# Check for null values\n",
    "all_data_usable_df.isnull().sum()"
   ]
  },
  {
   "cell_type": "code",
   "execution_count": 9,
   "metadata": {
    "colab": {
     "base_uri": "https://localhost:8080/"
    },
    "id": "cWxWRntTNqhp",
    "outputId": "82bad09c-0142-4fa8-f5ee-b6a5f684e915"
   },
   "outputs": [
    {
     "data": {
      "text/plain": [
       "(2645, 14)"
      ]
     },
     "execution_count": 9,
     "metadata": {},
     "output_type": "execute_result"
    }
   ],
   "source": [
    "# Check the total number of rows an columns\n",
    "all_data_usable_df.shape"
   ]
  },
  {
   "cell_type": "code",
   "execution_count": 10,
   "metadata": {},
   "outputs": [
    {
     "name": "stderr",
     "output_type": "stream",
     "text": [
      "/var/folders/73/r2ypb6197z34qqk9hr4zj9900000gn/T/ipykernel_39675/2830975451.py:2: FutureWarning: In a future version of pandas all arguments of DataFrame.drop except for the argument 'labels' will be keyword-only\n",
      "  X = all_data_usable_df.drop([\"Num_Per_100k\"], 1)\n"
     ]
    }
   ],
   "source": [
    "# Determine the columns to be used for X and y (Target and Feature columns: 13 total)\n",
    "X = all_data_usable_df.drop([\"Num_Per_100k\"], 1)\n",
    "y = pd.DataFrame(all_data_usable_df[\"Num_Per_100k\"])"
   ]
  },
  {
   "cell_type": "code",
   "execution_count": 11,
   "metadata": {
    "id": "GNmk-NVM9OCY"
   },
   "outputs": [],
   "source": [
    "# Divide data into training and testing sets\n",
    "\n",
    "from sklearn.model_selection import train_test_split\n",
    "\n",
    "X_train, X_test, y_train, y_test = train_test_split(X, y, test_size=0.2, random_state=0)"
   ]
  },
  {
   "cell_type": "code",
   "execution_count": 12,
   "metadata": {
    "id": "sjCathZU9dhj"
   },
   "outputs": [],
   "source": [
    "# Feature Scaling\n",
    "from sklearn.preprocessing import StandardScaler\n",
    "\n",
    "sc = StandardScaler()\n",
    "X_train = sc.fit_transform(X_train)\n",
    "X_test = sc.transform(X_test)"
   ]
  },
  {
   "cell_type": "code",
   "execution_count": 13,
   "metadata": {
    "id": "negZLKOY9hnK"
   },
   "outputs": [
    {
     "name": "stderr",
     "output_type": "stream",
     "text": [
      "/var/folders/73/r2ypb6197z34qqk9hr4zj9900000gn/T/ipykernel_39675/1399124733.py:6: DataConversionWarning: A column-vector y was passed when a 1d array was expected. Please change the shape of y to (n_samples,), for example using ravel().\n",
      "  regressor.fit(X_train, y_train)\n"
     ]
    }
   ],
   "source": [
    "# Train random forest algorithm to solve this regression problem\n",
    "\n",
    "from sklearn.ensemble import RandomForestRegressor\n",
    "\n",
    "regressor = RandomForestRegressor(n_estimators=20, random_state=0)\n",
    "regressor.fit(X_train, y_train)\n",
    "y_pred = regressor.predict(X_test)"
   ]
  },
  {
   "cell_type": "code",
   "execution_count": 14,
   "metadata": {
    "colab": {
     "base_uri": "https://localhost:8080/"
    },
    "id": "Kiemd3Pb9kDT",
    "outputId": "927ade8c-5b5c-404b-99e7-a1533501bdc0"
   },
   "outputs": [
    {
     "name": "stdout",
     "output_type": "stream",
     "text": [
      "Mean Absolute Error: 9.59015122873346\n",
      "Mean Squared Error: 152.45820132325142\n",
      "Root Mean Squared Error: 12.34739654029348\n"
     ]
    }
   ],
   "source": [
    "from sklearn import metrics\n",
    "import numpy as np\n",
    "\n",
    "# Find the Root Mean Squared Error\n",
    "\n",
    "print('Mean Absolute Error:', metrics.mean_absolute_error(y_test, y_pred))\n",
    "print('Mean Squared Error:', metrics.mean_squared_error(y_test, y_pred))\n",
    "print('Root Mean Squared Error:', np.sqrt(metrics.mean_squared_error(y_test, y_pred)))"
   ]
  },
  {
   "cell_type": "code",
   "execution_count": 15,
   "metadata": {},
   "outputs": [
    {
     "data": {
      "text/plain": [
       "array([0.21017966, 0.07034563, 0.10031086, 0.03998725, 0.04319618,\n",
       "       0.06225429, 0.05170711, 0.07954603, 0.07592915, 0.07042911,\n",
       "       0.10054944, 0.05245012, 0.04311518])"
      ]
     },
     "execution_count": 15,
     "metadata": {},
     "output_type": "execute_result"
    }
   ],
   "source": [
    "# Calculate feature importance in the Random Forest model.\n",
    "importances = regressor.feature_importances_\n",
    "importances"
   ]
  },
  {
   "cell_type": "code",
   "execution_count": 16,
   "metadata": {},
   "outputs": [
    {
     "data": {
      "text/html": [
       "<div>\n",
       "<style scoped>\n",
       "    .dataframe tbody tr th:only-of-type {\n",
       "        vertical-align: middle;\n",
       "    }\n",
       "\n",
       "    .dataframe tbody tr th {\n",
       "        vertical-align: top;\n",
       "    }\n",
       "\n",
       "    .dataframe thead th {\n",
       "        text-align: right;\n",
       "    }\n",
       "</style>\n",
       "<table border=\"1\" class=\"dataframe\">\n",
       "  <thead>\n",
       "    <tr style=\"text-align: right;\">\n",
       "      <th></th>\n",
       "      <th>Feature</th>\n",
       "      <th>Importance</th>\n",
       "    </tr>\n",
       "  </thead>\n",
       "  <tbody>\n",
       "    <tr>\n",
       "      <th>0</th>\n",
       "      <td>Percent_Smokers</td>\n",
       "      <td>0.210180</td>\n",
       "    </tr>\n",
       "    <tr>\n",
       "      <th>10</th>\n",
       "      <td>Average_Daily_Air_Polution_Particle_Matter</td>\n",
       "      <td>0.100549</td>\n",
       "    </tr>\n",
       "    <tr>\n",
       "      <th>2</th>\n",
       "      <td>Food_Environment_Index</td>\n",
       "      <td>0.100311</td>\n",
       "    </tr>\n",
       "    <tr>\n",
       "      <th>7</th>\n",
       "      <td>Percent_Unemployed</td>\n",
       "      <td>0.079546</td>\n",
       "    </tr>\n",
       "    <tr>\n",
       "      <th>8</th>\n",
       "      <td>Income_Inequality_Ratio</td>\n",
       "      <td>0.075929</td>\n",
       "    </tr>\n",
       "    <tr>\n",
       "      <th>9</th>\n",
       "      <td>Violent_Crime_Rate</td>\n",
       "      <td>0.070429</td>\n",
       "    </tr>\n",
       "    <tr>\n",
       "      <th>1</th>\n",
       "      <td>Percent_Obese</td>\n",
       "      <td>0.070346</td>\n",
       "    </tr>\n",
       "    <tr>\n",
       "      <th>5</th>\n",
       "      <td>Mental_Health_Providers_Rate</td>\n",
       "      <td>0.062254</td>\n",
       "    </tr>\n",
       "    <tr>\n",
       "      <th>11</th>\n",
       "      <td>Percent_Long_Commute_Drives_Alone</td>\n",
       "      <td>0.052450</td>\n",
       "    </tr>\n",
       "    <tr>\n",
       "      <th>6</th>\n",
       "      <td>Percent_Some_College</td>\n",
       "      <td>0.051707</td>\n",
       "    </tr>\n",
       "    <tr>\n",
       "      <th>4</th>\n",
       "      <td>Primary_Care_Physician_Rate</td>\n",
       "      <td>0.043196</td>\n",
       "    </tr>\n",
       "    <tr>\n",
       "      <th>12</th>\n",
       "      <td>Percent_Rural</td>\n",
       "      <td>0.043115</td>\n",
       "    </tr>\n",
       "    <tr>\n",
       "      <th>3</th>\n",
       "      <td>Percent_Access_Exercise</td>\n",
       "      <td>0.039987</td>\n",
       "    </tr>\n",
       "  </tbody>\n",
       "</table>\n",
       "</div>"
      ],
      "text/plain": [
       "                                       Feature  Importance\n",
       "0                              Percent_Smokers    0.210180\n",
       "10  Average_Daily_Air_Polution_Particle_Matter    0.100549\n",
       "2                       Food_Environment_Index    0.100311\n",
       "7                           Percent_Unemployed    0.079546\n",
       "8                      Income_Inequality_Ratio    0.075929\n",
       "9                           Violent_Crime_Rate    0.070429\n",
       "1                                Percent_Obese    0.070346\n",
       "5                 Mental_Health_Providers_Rate    0.062254\n",
       "11           Percent_Long_Commute_Drives_Alone    0.052450\n",
       "6                         Percent_Some_College    0.051707\n",
       "4                  Primary_Care_Physician_Rate    0.043196\n",
       "12                               Percent_Rural    0.043115\n",
       "3                      Percent_Access_Exercise    0.039987"
      ]
     },
     "execution_count": 16,
     "metadata": {},
     "output_type": "execute_result"
    }
   ],
   "source": [
    "# List the features in order of importance\n",
    "importances_df = pd.DataFrame(X.columns, columns=[\"Feature\"])\n",
    "importances_df[\"Importance\"] = importances\n",
    "importances_df.sort_values('Importance', ascending=False, inplace=True)\n",
    "importances_df"
   ]
  },
  {
   "cell_type": "code",
   "execution_count": 17,
   "metadata": {},
   "outputs": [
    {
     "data": {
      "text/plain": [
       "Text(0.5, 1.0, 'Plot Feature Importances')"
      ]
     },
     "execution_count": 17,
     "metadata": {},
     "output_type": "execute_result"
    },
    {
     "data": {
      "image/png": "[encoded data removed]",
      "text/plain": [
       "<Figure size 1080x360 with 1 Axes>"
      ]
     },
     "metadata": {
      "needs_background": "light"
     },
     "output_type": "display_data"
    }
   ],
   "source": [
    "# Plot the features in order of importance\n",
    "plt.figure(figsize=(15,5))\n",
    "ax = importances_df['Feature']\n",
    "plt.bar(range(importances_df.shape[0]), importances_df['Importance']*100)\n",
    "plt.xticks(range(importances_df.shape[0]), importances_df['Feature'], rotation = 20)\n",
    "plt.xlabel(\"Features\")\n",
    "plt.ylabel(\"Importance\")\n",
    "plt.title(\"Plot Feature Importances\")"
   ]
  },
  {
   "cell_type": "code",
   "execution_count": 60,
   "metadata": {
    "id": "dXtsk0z_A0vv"
   },
   "outputs": [
    {
     "name": "stderr",
     "output_type": "stream",
     "text": [
      "/var/folders/73/r2ypb6197z34qqk9hr4zj9900000gn/T/ipykernel_4207/1571975571.py:2: FutureWarning: In a future version of pandas all arguments of DataFrame.drop except for the argument 'labels' will be keyword-only\n",
      "  X = all_data_usable_df.drop([\"Num_Per_100k\",\"Percent_Obese\",\"Percent_Access_Exercise\",\"Primary_Care_Physician_Rate\",\"Mental_Health_Providers_Rate\",\"Percent_Some_College\",\"Violent_Crime_Rate\",\"Percent_Long_Commute_Drives_Alone\",\"Percent_Rural\"], 1)\n"
     ]
    }
   ],
   "source": [
    "# Narrow the data down to the top 5 most important features \n",
    "X = all_data_usable_df.drop([\"Num_Per_100k\",\"Percent_Obese\",\"Percent_Access_Exercise\",\"Primary_Care_Physician_Rate\",\"Mental_Health_Providers_Rate\",\"Percent_Some_College\",\"Violent_Crime_Rate\",\"Percent_Long_Commute_Drives_Alone\",\"Percent_Rural\"], 1)\n",
    "y = pd.DataFrame(all_data_usable_df[\"Num_Per_100k\"])"
   ]
  },
  {
   "cell_type": "code",
   "execution_count": 61,
   "metadata": {},
   "outputs": [
    {
     "data": {
      "text/plain": [
       "Percent_Smokers                               float64\n",
       "Food_Environment_Index                        float64\n",
       "Percent_Unemployed                            float64\n",
       "Income_Inequality_Ratio                       float64\n",
       "Average_Daily_Air_Polution_Particle_Matter    float64\n",
       "dtype: object"
      ]
     },
     "execution_count": 61,
     "metadata": {},
     "output_type": "execute_result"
    }
   ],
   "source": [
    "# Check data types\n",
    "X.dtypes"
   ]
  },
  {
   "cell_type": "code",
   "execution_count": 62,
   "metadata": {},
   "outputs": [
    {
     "data": {
      "text/plain": [
       "Percent_Smokers                               0\n",
       "Food_Environment_Index                        0\n",
       "Percent_Unemployed                            0\n",
       "Income_Inequality_Ratio                       0\n",
       "Average_Daily_Air_Polution_Particle_Matter    0\n",
       "dtype: int64"
      ]
     },
     "execution_count": 62,
     "metadata": {},
     "output_type": "execute_result"
    }
   ],
   "source": [
    "# Check for null values\n",
    "X.isnull().sum()"
   ]
  },
  {
   "cell_type": "code",
   "execution_count": 63,
   "metadata": {
    "id": "N0YdSCPvCuW9"
   },
   "outputs": [],
   "source": [
    "# Divide data into training and testing sets\n",
    "X_train, X_test, y_train, y_test = train_test_split(X, y, test_size=0.2, random_state=0)"
   ]
  },
  {
   "cell_type": "code",
   "execution_count": 64,
   "metadata": {
    "id": "FaVAaVsACw8u"
   },
   "outputs": [],
   "source": [
    "# Feature Scaling\n",
    "sc = StandardScaler()\n",
    "X_train = sc.fit_transform(X_train)\n",
    "X_test = sc.transform(X_test)"
   ]
  },
  {
   "cell_type": "code",
   "execution_count": 65,
   "metadata": {
    "id": "dcvmxNPXCzF-"
   },
   "outputs": [
    {
     "name": "stderr",
     "output_type": "stream",
     "text": [
      "/var/folders/73/r2ypb6197z34qqk9hr4zj9900000gn/T/ipykernel_4207/1120975880.py:3: DataConversionWarning: A column-vector y was passed when a 1d array was expected. Please change the shape of y to (n_samples,), for example using ravel().\n",
      "  regressor.fit(X_train, y_train)\n"
     ]
    }
   ],
   "source": [
    "# Train random forest algorithm to solve this regression problem\n",
    "regressor = RandomForestRegressor(n_estimators=30, random_state=0)\n",
    "regressor.fit(X_train, y_train)\n",
    "y_pred = regressor.predict(X_test)"
   ]
  },
  {
   "cell_type": "code",
   "execution_count": 66,
   "metadata": {
    "colab": {
     "base_uri": "https://localhost:8080/"
    },
    "id": "PfylNs6wC1Cl",
    "outputId": "b9b76412-04e2-4d67-a4b0-c2b65928eda0"
   },
   "outputs": [
    {
     "name": "stdout",
     "output_type": "stream",
     "text": [
      "Mean Absolute Error: 9.844814114681789\n",
      "Mean Squared Error: 164.05482075194288\n",
      "Root Mean Squared Error: 12.808388686792062\n"
     ]
    }
   ],
   "source": [
    "# Find the Root Mean Squared Error\n",
    "\n",
    "print('Mean Absolute Error:', metrics.mean_absolute_error(y_test, y_pred))\n",
    "print('Mean Squared Error:', metrics.mean_squared_error(y_test, y_pred))\n",
    "print('Root Mean Squared Error:', np.sqrt(metrics.mean_squared_error(y_test, y_pred)))"
   ]
  },
  {
   "cell_type": "code",
   "execution_count": 67,
   "metadata": {},
   "outputs": [
    {
     "data": {
      "text/plain": [
       "array([0.25957644, 0.19527803, 0.18626576, 0.15019819, 0.20868159])"
      ]
     },
     "execution_count": 67,
     "metadata": {},
     "output_type": "execute_result"
    }
   ],
   "source": [
    "# Calculate feature importance in the Random Forest model.\n",
    "importances = regressor.feature_importances_\n",
    "importances"
   ]
  },
  {
   "cell_type": "code",
   "execution_count": 68,
   "metadata": {},
   "outputs": [
    {
     "data": {
      "text/html": [
       "<div>\n",
       "<style scoped>\n",
       "    .dataframe tbody tr th:only-of-type {\n",
       "        vertical-align: middle;\n",
       "    }\n",
       "\n",
       "    .dataframe tbody tr th {\n",
       "        vertical-align: top;\n",
       "    }\n",
       "\n",
       "    .dataframe thead th {\n",
       "        text-align: right;\n",
       "    }\n",
       "</style>\n",
       "<table border=\"1\" class=\"dataframe\">\n",
       "  <thead>\n",
       "    <tr style=\"text-align: right;\">\n",
       "      <th></th>\n",
       "      <th>Feature</th>\n",
       "      <th>Importance</th>\n",
       "    </tr>\n",
       "  </thead>\n",
       "  <tbody>\n",
       "    <tr>\n",
       "      <th>0</th>\n",
       "      <td>Percent_Smokers</td>\n",
       "      <td>0.259576</td>\n",
       "    </tr>\n",
       "    <tr>\n",
       "      <th>4</th>\n",
       "      <td>Average_Daily_Air_Polution_Particle_Matter</td>\n",
       "      <td>0.208682</td>\n",
       "    </tr>\n",
       "    <tr>\n",
       "      <th>1</th>\n",
       "      <td>Food_Environment_Index</td>\n",
       "      <td>0.195278</td>\n",
       "    </tr>\n",
       "    <tr>\n",
       "      <th>2</th>\n",
       "      <td>Percent_Unemployed</td>\n",
       "      <td>0.186266</td>\n",
       "    </tr>\n",
       "    <tr>\n",
       "      <th>3</th>\n",
       "      <td>Income_Inequality_Ratio</td>\n",
       "      <td>0.150198</td>\n",
       "    </tr>\n",
       "  </tbody>\n",
       "</table>\n",
       "</div>"
      ],
      "text/plain": [
       "                                      Feature  Importance\n",
       "0                             Percent_Smokers    0.259576\n",
       "4  Average_Daily_Air_Polution_Particle_Matter    0.208682\n",
       "1                      Food_Environment_Index    0.195278\n",
       "2                          Percent_Unemployed    0.186266\n",
       "3                     Income_Inequality_Ratio    0.150198"
      ]
     },
     "execution_count": 68,
     "metadata": {},
     "output_type": "execute_result"
    }
   ],
   "source": [
    "# List the features in order of importance\n",
    "importances_df = pd.DataFrame(X.columns, columns=[\"Feature\"])\n",
    "importances_df[\"Importance\"] = importances\n",
    "importances_df.sort_values('Importance', ascending=False, inplace=True)\n",
    "importances_df"
   ]
  },
  {
   "cell_type": "code",
   "execution_count": 69,
   "metadata": {},
   "outputs": [
    {
     "data": {
      "text/plain": [
       "Text(0.5, 1.0, 'Plot Feature Importances')"
      ]
     },
     "execution_count": 69,
     "metadata": {},
     "output_type": "execute_result"
    },
    {
     "data": {
      "image/png": "[encoded data removed]",
      "text/plain": [
       "<Figure size 1080x360 with 1 Axes>"
      ]
     },
     "metadata": {
      "needs_background": "light"
     },
     "output_type": "display_data"
    }
   ],
   "source": [
    "# Plot the features in order of importance\n",
    "plt.figure(figsize=(15,5))\n",
    "ax = importances_df['Feature']\n",
    "plt.bar(range(importances_df.shape[0]), importances_df['Importance']*100)\n",
    "plt.xticks(range(importances_df.shape[0]), importances_df['Feature'], rotation = 20)\n",
    "plt.xlabel(\"Features\")\n",
    "plt.ylabel(\"Importance\")\n",
    "plt.title(\"Plot Feature Importances\")"
   ]
  },
  {
   "cell_type": "code",
   "execution_count": 423,
   "metadata": {},
   "outputs": [],
   "source": [
    "# Output the model via Pickle to a file\n",
    "pickle_out = open(\"model.pkl\", \"wb\")\n",
    "pickle.dump(regressor, pickle_out)\n",
    "pickle_out.close()"
   ]
  },
  {
   "cell_type": "code",
   "execution_count": null,
   "metadata": {},
   "outputs": [],
   "source": []
  }
 ],
 "metadata": {
  "colab": {
   "collapsed_sections": [],
   "name": "Final_Project_ML_Draft_Random_Forest",
   "provenance": []
  },
  "kernelspec": {
   "display_name": "Python 3 (ipykernel)",
   "language": "python",
   "name": "python3"
  },
  "language_info": {
   "codemirror_mode": {
    "name": "ipython",
    "version": 3
   },
   "file_extension": ".py",
   "mimetype": "text/x-python",
   "name": "python",
   "nbconvert_exporter": "python",
   "pygments_lexer": "ipython3",
   "version": "3.9.7"
  }
 },
 "nbformat": 4,
 "nbformat_minor": 1
}
