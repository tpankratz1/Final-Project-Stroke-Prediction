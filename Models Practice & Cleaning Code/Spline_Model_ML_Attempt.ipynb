{
  "cells": [
    {
      "cell_type": "code",
      "execution_count": 8,
      "metadata": {
        "id": "9h0MNZTgOWyr"
      },
      "outputs": [],
      "source": [
        "# Set up connection to database\n",
        "import psycopg2\n",
        "engine = psycopg2.connect(\n",
        "    database=\"stroke_dataset\",\n",
        "    user = \"postgres\",\n",
        "    password = \"bootcamp\",\n",
        "    host = \"final-project.cpi4gz0jwsu4.us-west-1.rds.amazonaws.com\",\n",
        "    port = '5432'\n",
        "    )\n",
        "\n",
        "cursor = engine.cursor()"
      ]
    },
    {
      "cell_type": "code",
      "execution_count": 12,
      "metadata": {
        "colab": {
          "base_uri": "https://localhost:8080/",
          "height": 270
        },
        "id": "QUkbWTsZ8GMJ",
        "outputId": "59c8d8ee-2c4f-4898-87d4-b71be5ca1dff"
      },
      "outputs": [
        {
          "data": {
            "text/html": [
              "\n",
              "  <div id=\"df-6fb35941-2d48-4719-8811-9e9ea1ec0cf0\">\n",
              "    <div class=\"colab-df-container\">\n",
              "      <div>\n",
              "<style scoped>\n",
              "    .dataframe tbody tr th:only-of-type {\n",
              "        vertical-align: middle;\n",
              "    }\n",
              "\n",
              "    .dataframe tbody tr th {\n",
              "        vertical-align: top;\n",
              "    }\n",
              "\n",
              "    .dataframe thead th {\n",
              "        text-align: right;\n",
              "    }\n",
              "</style>\n",
              "<table border=\"1\" class=\"dataframe\">\n",
              "  <thead>\n",
              "    <tr style=\"text-align: right;\">\n",
              "      <th></th>\n",
              "      <th>FIPS</th>\n",
              "      <th>Num_Per_100k</th>\n",
              "      <th>State</th>\n",
              "      <th>County</th>\n",
              "      <th>Percent_Smokers</th>\n",
              "      <th>Percent_Obese</th>\n",
              "      <th>Food_Environment_Index</th>\n",
              "      <th>Percent_Access_Exercise</th>\n",
              "      <th>Primary_Care_Physician_Rate</th>\n",
              "      <th>Mental_Health_Providers_Rate</th>\n",
              "      <th>Percent_Some_College</th>\n",
              "      <th>Percent_Unemployed</th>\n",
              "      <th>Income_Inequality_Ratio</th>\n",
              "      <th>Violent_Crime_Rate</th>\n",
              "      <th>Average_Daily_Air_Polution_Particle_Matter</th>\n",
              "      <th>Percent_Long_Commute_Drives_Alone</th>\n",
              "      <th>Percent_Rural</th>\n",
              "    </tr>\n",
              "  </thead>\n",
              "  <tbody>\n",
              "    <tr>\n",
              "      <th>0</th>\n",
              "      <td>1001.0</td>\n",
              "      <td>107.0</td>\n",
              "      <td>Alabama</td>\n",
              "      <td>Autauga</td>\n",
              "      <td>19.0</td>\n",
              "      <td>36.0</td>\n",
              "      <td>7.1</td>\n",
              "      <td>71.0</td>\n",
              "      <td>45.0</td>\n",
              "      <td>13.0</td>\n",
              "      <td>61.9</td>\n",
              "      <td>5.3</td>\n",
              "      <td>4.4</td>\n",
              "      <td>266.0</td>\n",
              "      <td>10.8</td>\n",
              "      <td>41.0</td>\n",
              "      <td>42.0</td>\n",
              "    </tr>\n",
              "    <tr>\n",
              "      <th>1</th>\n",
              "      <td>1003.0</td>\n",
              "      <td>82.5</td>\n",
              "      <td>Alabama</td>\n",
              "      <td>Baldwin</td>\n",
              "      <td>17.0</td>\n",
              "      <td>29.0</td>\n",
              "      <td>7.9</td>\n",
              "      <td>69.0</td>\n",
              "      <td>73.0</td>\n",
              "      <td>89.0</td>\n",
              "      <td>63.8</td>\n",
              "      <td>5.4</td>\n",
              "      <td>4.6</td>\n",
              "      <td>217.0</td>\n",
              "      <td>9.6</td>\n",
              "      <td>40.0</td>\n",
              "      <td>42.3</td>\n",
              "    </tr>\n",
              "    <tr>\n",
              "      <th>2</th>\n",
              "      <td>1005.0</td>\n",
              "      <td>96.1</td>\n",
              "      <td>Alabama</td>\n",
              "      <td>Barbour</td>\n",
              "      <td>22.0</td>\n",
              "      <td>44.0</td>\n",
              "      <td>5.5</td>\n",
              "      <td>53.0</td>\n",
              "      <td>42.0</td>\n",
              "      <td>8.0</td>\n",
              "      <td>39.7</td>\n",
              "      <td>8.6</td>\n",
              "      <td>5.9</td>\n",
              "      <td>329.0</td>\n",
              "      <td>10.1</td>\n",
              "      <td>35.0</td>\n",
              "      <td>67.8</td>\n",
              "    </tr>\n",
              "    <tr>\n",
              "      <th>3</th>\n",
              "      <td>1007.0</td>\n",
              "      <td>112.3</td>\n",
              "      <td>Alabama</td>\n",
              "      <td>Bibb</td>\n",
              "      <td>20.0</td>\n",
              "      <td>38.0</td>\n",
              "      <td>7.6</td>\n",
              "      <td>49.0</td>\n",
              "      <td>53.0</td>\n",
              "      <td>9.0</td>\n",
              "      <td>49.8</td>\n",
              "      <td>6.6</td>\n",
              "      <td>4.2</td>\n",
              "      <td>147.0</td>\n",
              "      <td>10.5</td>\n",
              "      <td>49.0</td>\n",
              "      <td>68.4</td>\n",
              "    </tr>\n",
              "    <tr>\n",
              "      <th>4</th>\n",
              "      <td>1009.0</td>\n",
              "      <td>96.1</td>\n",
              "      <td>Alabama</td>\n",
              "      <td>Blount</td>\n",
              "      <td>20.0</td>\n",
              "      <td>36.0</td>\n",
              "      <td>8.5</td>\n",
              "      <td>32.0</td>\n",
              "      <td>21.0</td>\n",
              "      <td>9.0</td>\n",
              "      <td>53.9</td>\n",
              "      <td>5.5</td>\n",
              "      <td>4.1</td>\n",
              "      <td>212.0</td>\n",
              "      <td>11.3</td>\n",
              "      <td>60.0</td>\n",
              "      <td>90.0</td>\n",
              "    </tr>\n",
              "  </tbody>\n",
              "</table>\n",
              "</div>\n",
              "      <button class=\"colab-df-convert\" onclick=\"convertToInteractive('df-6fb35941-2d48-4719-8811-9e9ea1ec0cf0')\"\n",
              "              title=\"Convert this dataframe to an interactive table.\"\n",
              "              style=\"display:none;\">\n",
              "        \n",
              "  <svg xmlns=\"http://www.w3.org/2000/svg\" height=\"24px\"viewBox=\"0 0 24 24\"\n",
              "       width=\"24px\">\n",
              "    <path d=\"M0 0h24v24H0V0z\" fill=\"none\"/>\n",
              "    <path d=\"M18.56 5.44l.94 2.06.94-2.06 2.06-.94-2.06-.94-.94-2.06-.94 2.06-2.06.94zm-11 1L8.5 8.5l.94-2.06 2.06-.94-2.06-.94L8.5 2.5l-.94 2.06-2.06.94zm10 10l.94 2.06.94-2.06 2.06-.94-2.06-.94-.94-2.06-.94 2.06-2.06.94z\"/><path d=\"M17.41 7.96l-1.37-1.37c-.4-.4-.92-.59-1.43-.59-.52 0-1.04.2-1.43.59L10.3 9.45l-7.72 7.72c-.78.78-.78 2.05 0 2.83L4 21.41c.39.39.9.59 1.41.59.51 0 1.02-.2 1.41-.59l7.78-7.78 2.81-2.81c.8-.78.8-2.07 0-2.86zM5.41 20L4 18.59l7.72-7.72 1.47 1.35L5.41 20z\"/>\n",
              "  </svg>\n",
              "      </button>\n",
              "      \n",
              "  <style>\n",
              "    .colab-df-container {\n",
              "      display:flex;\n",
              "      flex-wrap:wrap;\n",
              "      gap: 12px;\n",
              "    }\n",
              "\n",
              "    .colab-df-convert {\n",
              "      background-color: #E8F0FE;\n",
              "      border: none;\n",
              "      border-radius: 50%;\n",
              "      cursor: pointer;\n",
              "      display: none;\n",
              "      fill: #1967D2;\n",
              "      height: 32px;\n",
              "      padding: 0 0 0 0;\n",
              "      width: 32px;\n",
              "    }\n",
              "\n",
              "    .colab-df-convert:hover {\n",
              "      background-color: #E2EBFA;\n",
              "      box-shadow: 0px 1px 2px rgba(60, 64, 67, 0.3), 0px 1px 3px 1px rgba(60, 64, 67, 0.15);\n",
              "      fill: #174EA6;\n",
              "    }\n",
              "\n",
              "    [theme=dark] .colab-df-convert {\n",
              "      background-color: #3B4455;\n",
              "      fill: #D2E3FC;\n",
              "    }\n",
              "\n",
              "    [theme=dark] .colab-df-convert:hover {\n",
              "      background-color: #434B5C;\n",
              "      box-shadow: 0px 1px 3px 1px rgba(0, 0, 0, 0.15);\n",
              "      filter: drop-shadow(0px 1px 2px rgba(0, 0, 0, 0.3));\n",
              "      fill: #FFFFFF;\n",
              "    }\n",
              "  </style>\n",
              "\n",
              "      <script>\n",
              "        const buttonEl =\n",
              "          document.querySelector('#df-6fb35941-2d48-4719-8811-9e9ea1ec0cf0 button.colab-df-convert');\n",
              "        buttonEl.style.display =\n",
              "          google.colab.kernel.accessAllowed ? 'block' : 'none';\n",
              "\n",
              "        async function convertToInteractive(key) {\n",
              "          const element = document.querySelector('#df-6fb35941-2d48-4719-8811-9e9ea1ec0cf0');\n",
              "          const dataTable =\n",
              "            await google.colab.kernel.invokeFunction('convertToInteractive',\n",
              "                                                     [key], {});\n",
              "          if (!dataTable) return;\n",
              "\n",
              "          const docLinkHtml = 'Like what you see? Visit the ' +\n",
              "            '<a target=\"_blank\" href=https://colab.research.google.com/notebooks/data_table.ipynb>data table notebook</a>'\n",
              "            + ' to learn more about interactive tables.';\n",
              "          element.innerHTML = '';\n",
              "          dataTable['output_type'] = 'display_data';\n",
              "          await google.colab.output.renderOutput(dataTable, element);\n",
              "          const docLink = document.createElement('div');\n",
              "          docLink.innerHTML = docLinkHtml;\n",
              "          element.appendChild(docLink);\n",
              "        }\n",
              "      </script>\n",
              "    </div>\n",
              "  </div>\n",
              "  "
            ],
            "text/plain": [
              "     FIPS  Num_Per_100k    State   County  Percent_Smokers  Percent_Obese  \\\n",
              "0  1001.0         107.0  Alabama  Autauga             19.0           36.0   \n",
              "1  1003.0          82.5  Alabama  Baldwin             17.0           29.0   \n",
              "2  1005.0          96.1  Alabama  Barbour             22.0           44.0   \n",
              "3  1007.0         112.3  Alabama     Bibb             20.0           38.0   \n",
              "4  1009.0          96.1  Alabama   Blount             20.0           36.0   \n",
              "\n",
              "   Food_Environment_Index  Percent_Access_Exercise  \\\n",
              "0                     7.1                     71.0   \n",
              "1                     7.9                     69.0   \n",
              "2                     5.5                     53.0   \n",
              "3                     7.6                     49.0   \n",
              "4                     8.5                     32.0   \n",
              "\n",
              "   Primary_Care_Physician_Rate  Mental_Health_Providers_Rate  \\\n",
              "0                         45.0                          13.0   \n",
              "1                         73.0                          89.0   \n",
              "2                         42.0                           8.0   \n",
              "3                         53.0                           9.0   \n",
              "4                         21.0                           9.0   \n",
              "\n",
              "   Percent_Some_College  Percent_Unemployed  Income_Inequality_Ratio  \\\n",
              "0                  61.9                 5.3                      4.4   \n",
              "1                  63.8                 5.4                      4.6   \n",
              "2                  39.7                 8.6                      5.9   \n",
              "3                  49.8                 6.6                      4.2   \n",
              "4                  53.9                 5.5                      4.1   \n",
              "\n",
              "   Violent_Crime_Rate  Average_Daily_Air_Polution_Particle_Matter  \\\n",
              "0               266.0                                        10.8   \n",
              "1               217.0                                         9.6   \n",
              "2               329.0                                        10.1   \n",
              "3               147.0                                        10.5   \n",
              "4               212.0                                        11.3   \n",
              "\n",
              "   Percent_Long_Commute_Drives_Alone  Percent_Rural  \n",
              "0                               41.0           42.0  \n",
              "1                               40.0           42.3  \n",
              "2                               35.0           67.8  \n",
              "3                               49.0           68.4  \n",
              "4                               60.0           90.0  "
            ]
          },
          "execution_count": 12,
          "metadata": {},
          "output_type": "execute_result"
        }
      ],
      "source": [
        "# Pull in working dataset from database\n",
        "import pandas as pd\n",
        "sql = \"\"\"\n",
        "SELECT \"FIPS\", \"Num_Per_100k\", \"State\", \"County\", \"Percent_Smokers\", \"Percent_Obese\", \"Food_Environment_Index\", \"Percent_Access_Exercise\", \"Primary_Care_Physician_Rate\", \"Mental_Health_Providers_Rate\", \"Percent_Some_College\", \"Percent_Unemployed\", \"Income_Inequality_Ratio\", \"Violent_Crime_Rate\", \"Average_Daily_Air_Polution_Particle_Matter\", \"Percent_Long_Commute_Drives_Alone\", \"Percent_Rural\"\n",
        "FROM public.\"All_Data\"\n",
        "\"\"\"\n",
        "\n",
        "all_data_df = pd.read_sql(sql, con=engine)\n",
        "all_data_df.head()"
      ]
    },
    {
      "cell_type": "code",
      "execution_count": 24,
      "metadata": {
        "colab": {
          "base_uri": "https://localhost:8080/"
        },
        "id": "NyWKbqx5C5An",
        "outputId": "552e4f91-584c-475f-8a5e-cc266f626b1c"
      },
      "outputs": [
        {
          "data": {
            "text/plain": [
              "(2645, 17)"
            ]
          },
          "execution_count": 24,
          "metadata": {},
          "output_type": "execute_result"
        }
      ],
      "source": [
        "all_data_df.shape"
      ]
    },
    {
      "cell_type": "code",
      "execution_count": 14,
      "metadata": {
        "id": "s3xG4_injaW0"
      },
      "outputs": [],
      "source": [
        "# Import dependencies\n",
        "from sklearn.model_selection import train_test_split\n",
        "from sklearn.preprocessing import StandardScaler,OneHotEncoder\n",
        "import pandas as pd\n",
        "import tensorflow as tf"
      ]
    },
    {
      "cell_type": "code",
      "execution_count": 25,
      "metadata": {
        "colab": {
          "base_uri": "https://localhost:8080/"
        },
        "id": "Lfqm4RuEc4ya",
        "outputId": "8e2f1c41-e352-4726-e47b-2bd86e2558b2"
      },
      "outputs": [
        {
          "data": {
            "text/plain": [
              "FIPS                                          0\n",
              "Num_Per_100k                                  0\n",
              "State                                         0\n",
              "County                                        0\n",
              "Percent_Smokers                               0\n",
              "Percent_Obese                                 0\n",
              "Food_Environment_Index                        0\n",
              "Percent_Access_Exercise                       0\n",
              "Primary_Care_Physician_Rate                   0\n",
              "Mental_Health_Providers_Rate                  0\n",
              "Percent_Some_College                          0\n",
              "Percent_Unemployed                            0\n",
              "Income_Inequality_Ratio                       0\n",
              "Violent_Crime_Rate                            0\n",
              "Average_Daily_Air_Polution_Particle_Matter    0\n",
              "Percent_Long_Commute_Drives_Alone             0\n",
              "Percent_Rural                                 0\n",
              "dtype: int64"
            ]
          },
          "execution_count": 25,
          "metadata": {},
          "output_type": "execute_result"
        }
      ],
      "source": [
        "# Check for null values\n",
        "all_data_df.isnull().sum()"
      ]
    },
    {
      "cell_type": "code",
      "execution_count": 26,
      "metadata": {
        "id": "uRqNh52VeTdF"
      },
      "outputs": [],
      "source": [
        "# Drop null values\n",
        "all_data_df = all_data_df.dropna(axis=0)"
      ]
    },
    {
      "cell_type": "code",
      "execution_count": 27,
      "metadata": {
        "colab": {
          "base_uri": "https://localhost:8080/",
          "height": 307
        },
        "id": "TztloevlMKhI",
        "outputId": "6e6a3255-c645-4757-fdd8-1346fad97c15"
      },
      "outputs": [
        {
          "name": "stderr",
          "output_type": "stream",
          "text": [
            "/usr/local/lib/python3.7/dist-packages/ipykernel_launcher.py:2: FutureWarning: In a future version of pandas all arguments of DataFrame.drop except for the argument 'labels' will be keyword-only\n",
            "  \n"
          ]
        },
        {
          "data": {
            "text/html": [
              "\n",
              "  <div id=\"df-3c3d8fcc-c042-4d1c-a254-0bc5c13447ac\">\n",
              "    <div class=\"colab-df-container\">\n",
              "      <div>\n",
              "<style scoped>\n",
              "    .dataframe tbody tr th:only-of-type {\n",
              "        vertical-align: middle;\n",
              "    }\n",
              "\n",
              "    .dataframe tbody tr th {\n",
              "        vertical-align: top;\n",
              "    }\n",
              "\n",
              "    .dataframe thead th {\n",
              "        text-align: right;\n",
              "    }\n",
              "</style>\n",
              "<table border=\"1\" class=\"dataframe\">\n",
              "  <thead>\n",
              "    <tr style=\"text-align: right;\">\n",
              "      <th></th>\n",
              "      <th>Num_Per_100k</th>\n",
              "      <th>Percent_Smokers</th>\n",
              "      <th>Percent_Obese</th>\n",
              "      <th>Food_Environment_Index</th>\n",
              "      <th>Percent_Access_Exercise</th>\n",
              "      <th>Primary_Care_Physician_Rate</th>\n",
              "      <th>Mental_Health_Providers_Rate</th>\n",
              "      <th>Percent_Some_College</th>\n",
              "      <th>Percent_Unemployed</th>\n",
              "      <th>Income_Inequality_Ratio</th>\n",
              "      <th>Violent_Crime_Rate</th>\n",
              "      <th>Average_Daily_Air_Polution_Particle_Matter</th>\n",
              "      <th>Percent_Long_Commute_Drives_Alone</th>\n",
              "      <th>Percent_Rural</th>\n",
              "    </tr>\n",
              "  </thead>\n",
              "  <tbody>\n",
              "    <tr>\n",
              "      <th>0</th>\n",
              "      <td>107.0</td>\n",
              "      <td>19.0</td>\n",
              "      <td>36.0</td>\n",
              "      <td>7.1</td>\n",
              "      <td>71.0</td>\n",
              "      <td>45.0</td>\n",
              "      <td>13.0</td>\n",
              "      <td>61.9</td>\n",
              "      <td>5.3</td>\n",
              "      <td>4.4</td>\n",
              "      <td>266.0</td>\n",
              "      <td>10.8</td>\n",
              "      <td>41.0</td>\n",
              "      <td>42.0</td>\n",
              "    </tr>\n",
              "    <tr>\n",
              "      <th>1</th>\n",
              "      <td>82.5</td>\n",
              "      <td>17.0</td>\n",
              "      <td>29.0</td>\n",
              "      <td>7.9</td>\n",
              "      <td>69.0</td>\n",
              "      <td>73.0</td>\n",
              "      <td>89.0</td>\n",
              "      <td>63.8</td>\n",
              "      <td>5.4</td>\n",
              "      <td>4.6</td>\n",
              "      <td>217.0</td>\n",
              "      <td>9.6</td>\n",
              "      <td>40.0</td>\n",
              "      <td>42.3</td>\n",
              "    </tr>\n",
              "    <tr>\n",
              "      <th>2</th>\n",
              "      <td>96.1</td>\n",
              "      <td>22.0</td>\n",
              "      <td>44.0</td>\n",
              "      <td>5.5</td>\n",
              "      <td>53.0</td>\n",
              "      <td>42.0</td>\n",
              "      <td>8.0</td>\n",
              "      <td>39.7</td>\n",
              "      <td>8.6</td>\n",
              "      <td>5.9</td>\n",
              "      <td>329.0</td>\n",
              "      <td>10.1</td>\n",
              "      <td>35.0</td>\n",
              "      <td>67.8</td>\n",
              "    </tr>\n",
              "    <tr>\n",
              "      <th>3</th>\n",
              "      <td>112.3</td>\n",
              "      <td>20.0</td>\n",
              "      <td>38.0</td>\n",
              "      <td>7.6</td>\n",
              "      <td>49.0</td>\n",
              "      <td>53.0</td>\n",
              "      <td>9.0</td>\n",
              "      <td>49.8</td>\n",
              "      <td>6.6</td>\n",
              "      <td>4.2</td>\n",
              "      <td>147.0</td>\n",
              "      <td>10.5</td>\n",
              "      <td>49.0</td>\n",
              "      <td>68.4</td>\n",
              "    </tr>\n",
              "    <tr>\n",
              "      <th>4</th>\n",
              "      <td>96.1</td>\n",
              "      <td>20.0</td>\n",
              "      <td>36.0</td>\n",
              "      <td>8.5</td>\n",
              "      <td>32.0</td>\n",
              "      <td>21.0</td>\n",
              "      <td>9.0</td>\n",
              "      <td>53.9</td>\n",
              "      <td>5.5</td>\n",
              "      <td>4.1</td>\n",
              "      <td>212.0</td>\n",
              "      <td>11.3</td>\n",
              "      <td>60.0</td>\n",
              "      <td>90.0</td>\n",
              "    </tr>\n",
              "  </tbody>\n",
              "</table>\n",
              "</div>\n",
              "      <button class=\"colab-df-convert\" onclick=\"convertToInteractive('df-3c3d8fcc-c042-4d1c-a254-0bc5c13447ac')\"\n",
              "              title=\"Convert this dataframe to an interactive table.\"\n",
              "              style=\"display:none;\">\n",
              "        \n",
              "  <svg xmlns=\"http://www.w3.org/2000/svg\" height=\"24px\"viewBox=\"0 0 24 24\"\n",
              "       width=\"24px\">\n",
              "    <path d=\"M0 0h24v24H0V0z\" fill=\"none\"/>\n",
              "    <path d=\"M18.56 5.44l.94 2.06.94-2.06 2.06-.94-2.06-.94-.94-2.06-.94 2.06-2.06.94zm-11 1L8.5 8.5l.94-2.06 2.06-.94-2.06-.94L8.5 2.5l-.94 2.06-2.06.94zm10 10l.94 2.06.94-2.06 2.06-.94-2.06-.94-.94-2.06-.94 2.06-2.06.94z\"/><path d=\"M17.41 7.96l-1.37-1.37c-.4-.4-.92-.59-1.43-.59-.52 0-1.04.2-1.43.59L10.3 9.45l-7.72 7.72c-.78.78-.78 2.05 0 2.83L4 21.41c.39.39.9.59 1.41.59.51 0 1.02-.2 1.41-.59l7.78-7.78 2.81-2.81c.8-.78.8-2.07 0-2.86zM5.41 20L4 18.59l7.72-7.72 1.47 1.35L5.41 20z\"/>\n",
              "  </svg>\n",
              "      </button>\n",
              "      \n",
              "  <style>\n",
              "    .colab-df-container {\n",
              "      display:flex;\n",
              "      flex-wrap:wrap;\n",
              "      gap: 12px;\n",
              "    }\n",
              "\n",
              "    .colab-df-convert {\n",
              "      background-color: #E8F0FE;\n",
              "      border: none;\n",
              "      border-radius: 50%;\n",
              "      cursor: pointer;\n",
              "      display: none;\n",
              "      fill: #1967D2;\n",
              "      height: 32px;\n",
              "      padding: 0 0 0 0;\n",
              "      width: 32px;\n",
              "    }\n",
              "\n",
              "    .colab-df-convert:hover {\n",
              "      background-color: #E2EBFA;\n",
              "      box-shadow: 0px 1px 2px rgba(60, 64, 67, 0.3), 0px 1px 3px 1px rgba(60, 64, 67, 0.15);\n",
              "      fill: #174EA6;\n",
              "    }\n",
              "\n",
              "    [theme=dark] .colab-df-convert {\n",
              "      background-color: #3B4455;\n",
              "      fill: #D2E3FC;\n",
              "    }\n",
              "\n",
              "    [theme=dark] .colab-df-convert:hover {\n",
              "      background-color: #434B5C;\n",
              "      box-shadow: 0px 1px 3px 1px rgba(0, 0, 0, 0.15);\n",
              "      filter: drop-shadow(0px 1px 2px rgba(0, 0, 0, 0.3));\n",
              "      fill: #FFFFFF;\n",
              "    }\n",
              "  </style>\n",
              "\n",
              "      <script>\n",
              "        const buttonEl =\n",
              "          document.querySelector('#df-3c3d8fcc-c042-4d1c-a254-0bc5c13447ac button.colab-df-convert');\n",
              "        buttonEl.style.display =\n",
              "          google.colab.kernel.accessAllowed ? 'block' : 'none';\n",
              "\n",
              "        async function convertToInteractive(key) {\n",
              "          const element = document.querySelector('#df-3c3d8fcc-c042-4d1c-a254-0bc5c13447ac');\n",
              "          const dataTable =\n",
              "            await google.colab.kernel.invokeFunction('convertToInteractive',\n",
              "                                                     [key], {});\n",
              "          if (!dataTable) return;\n",
              "\n",
              "          const docLinkHtml = 'Like what you see? Visit the ' +\n",
              "            '<a target=\"_blank\" href=https://colab.research.google.com/notebooks/data_table.ipynb>data table notebook</a>'\n",
              "            + ' to learn more about interactive tables.';\n",
              "          element.innerHTML = '';\n",
              "          dataTable['output_type'] = 'display_data';\n",
              "          await google.colab.output.renderOutput(dataTable, element);\n",
              "          const docLink = document.createElement('div');\n",
              "          docLink.innerHTML = docLinkHtml;\n",
              "          element.appendChild(docLink);\n",
              "        }\n",
              "      </script>\n",
              "    </div>\n",
              "  </div>\n",
              "  "
            ],
            "text/plain": [
              "   Num_Per_100k  Percent_Smokers  Percent_Obese  Food_Environment_Index  \\\n",
              "0         107.0             19.0           36.0                     7.1   \n",
              "1          82.5             17.0           29.0                     7.9   \n",
              "2          96.1             22.0           44.0                     5.5   \n",
              "3         112.3             20.0           38.0                     7.6   \n",
              "4          96.1             20.0           36.0                     8.5   \n",
              "\n",
              "   Percent_Access_Exercise  Primary_Care_Physician_Rate  \\\n",
              "0                     71.0                         45.0   \n",
              "1                     69.0                         73.0   \n",
              "2                     53.0                         42.0   \n",
              "3                     49.0                         53.0   \n",
              "4                     32.0                         21.0   \n",
              "\n",
              "   Mental_Health_Providers_Rate  Percent_Some_College  Percent_Unemployed  \\\n",
              "0                          13.0                  61.9                 5.3   \n",
              "1                          89.0                  63.8                 5.4   \n",
              "2                           8.0                  39.7                 8.6   \n",
              "3                           9.0                  49.8                 6.6   \n",
              "4                           9.0                  53.9                 5.5   \n",
              "\n",
              "   Income_Inequality_Ratio  Violent_Crime_Rate  \\\n",
              "0                      4.4               266.0   \n",
              "1                      4.6               217.0   \n",
              "2                      5.9               329.0   \n",
              "3                      4.2               147.0   \n",
              "4                      4.1               212.0   \n",
              "\n",
              "   Average_Daily_Air_Polution_Particle_Matter  \\\n",
              "0                                        10.8   \n",
              "1                                         9.6   \n",
              "2                                        10.1   \n",
              "3                                        10.5   \n",
              "4                                        11.3   \n",
              "\n",
              "   Percent_Long_Commute_Drives_Alone  Percent_Rural  \n",
              "0                               41.0           42.0  \n",
              "1                               40.0           42.3  \n",
              "2                               35.0           67.8  \n",
              "3                               49.0           68.4  \n",
              "4                               60.0           90.0  "
            ]
          },
          "execution_count": 27,
          "metadata": {},
          "output_type": "execute_result"
        }
      ],
      "source": [
        "# Drop identifier columns\n",
        "all_data_usable_df = all_data_df.drop([\"FIPS\", \"State\", \"County\"], 1)\n",
        "all_data_usable_df.head()"
      ]
    },
    {
      "cell_type": "code",
      "execution_count": 18,
      "metadata": {
        "colab": {
          "base_uri": "https://localhost:8080/"
        },
        "id": "Vv8ROgBXHoWd",
        "outputId": "566df5cc-5140-4da0-823b-79f82a598e98"
      },
      "outputs": [
        {
          "name": "stderr",
          "output_type": "stream",
          "text": [
            "/usr/local/lib/python3.7/dist-packages/statsmodels/tools/_testing.py:19: FutureWarning: pandas.util.testing is deprecated. Use the functions in the public API at pandas.testing instead.\n",
            "  import pandas.util.testing as tm\n"
          ]
        }
      ],
      "source": [
        "# https://www.analyticsvidhya.com/blog/2018/03/introduction-regression-splines-python-codes/\n",
        " import pandas as pd\n",
        " import numpy as np\n",
        " import statsmodels.api as sm\n",
        " import matplotlib.pyplot as plt \n",
        " %matplotlib inline"
      ]
    },
    {
      "cell_type": "code",
      "execution_count": 53,
      "metadata": {
        "id": "k3Btz8YsHz4d"
      },
      "outputs": [],
      "source": [
        "# Split our preprocessed data into our features and target arrays\n",
        "y = all_data_usable_df[\"Num_Per_100k\"].values\n",
        "#X = all_data_usable_df.drop(\"Num_Per_100k\", 1).values\n",
        "X = all_data_usable_df[\"Percent_Smokers\"].values\n",
        "\n",
        "# Split the preprocessed data into a training and testing dataset\n",
        "X_train, X_test, y_train, y_test = train_test_split( X, y, random_state=1)"
      ]
    },
    {
      "cell_type": "code",
      "execution_count": 54,
      "metadata": {
        "colab": {
          "base_uri": "https://localhost:8080/",
          "height": 265
        },
        "id": "vZ32PtFFIYeh",
        "outputId": "bfb1bede-9933-4d73-d3ea-7ca4fd6c15a8"
      },
      "outputs": [
        {
          "data": {
            "image/png": "[encoded data removed]",
            "text/plain": [
              "<Figure size 432x288 with 1 Axes>"
            ]
          },
          "metadata": {
            "needs_background": "light"
          },
          "output_type": "display_data"
        }
      ],
      "source": [
        "# Visualize relationship\n",
        "plt.scatter(X_train, y_train, facecolor='None', edgecolor='k', alpha=0.3)\n",
        "plt.show()"
      ]
    },
    {
      "cell_type": "code",
      "execution_count": 55,
      "metadata": {
        "colab": {
          "base_uri": "https://localhost:8080/"
        },
        "id": "VujENhLoKdgU",
        "outputId": "c59c8915-c016-4e46-91f7-1e8cf0dd2ebe"
      },
      "outputs": [
        {
          "name": "stdout",
          "output_type": "stream",
          "text": [
            "[1.9834604]\n",
            "40.5735031059466\n"
          ]
        }
      ],
      "source": [
        "from sklearn.linear_model import LinearRegression\n",
        "\n",
        "# Fitting linear regression model\n",
        "x = X_train.reshape(-1,1)\n",
        "model = LinearRegression()\n",
        "model.fit(x, y_train)\n",
        "print(model.coef_)\n",
        "print(model.intercept_)"
      ]
    },
    {
      "cell_type": "code",
      "execution_count": 56,
      "metadata": {
        "colab": {
          "base_uri": "https://localhost:8080/",
          "height": 265
        },
        "id": "yoZgV6hvKdjC",
        "outputId": "0f914d63-7338-4546-9930-52c150a09f29"
      },
      "outputs": [
        {
          "data": {
            "image/png": "[encoded data removed]",
            "text/plain": [
              "<Figure size 432x288 with 1 Axes>"
            ]
          },
          "metadata": {
            "needs_background": "light"
          },
          "output_type": "display_data"
        }
      ],
      "source": [
        "# Prediction on validation dataset\n",
        "X_test = X_test.reshape(-1,1)\n",
        "pred = model.predict(X_test)\n",
        "\n",
        "# Visualization\n",
        "# We will use plots between minimum and maximum values of valid_x for plotting\n",
        "xp = np.linspace(X_test.min(),X_test.max())\n",
        "xp = xp.reshape(-1,1)\n",
        "pred_plot = model.predict(xp)\n",
        "\n",
        "plt.scatter(X_test, y_test, facecolor='None', edgecolor='k', alpha=0.3)\n",
        "plt.plot(xp, pred_plot)\n",
        "plt.show()"
      ]
    },
    {
      "cell_type": "code",
      "execution_count": 57,
      "metadata": {
        "colab": {
          "base_uri": "https://localhost:8080/"
        },
        "id": "C4SfI1YiMhUJ",
        "outputId": "4e6b1f91-2a3b-47bb-c9a4-ac8a8b45c099"
      },
      "outputs": [
        {
          "name": "stdout",
          "output_type": "stream",
          "text": [
            "14.841487083034124\n"
          ]
        }
      ],
      "source": [
        "from sklearn.metrics import mean_squared_error\n",
        "from math import sqrt\n",
        "\n",
        "rms = sqrt(mean_squared_error(y_test, pred))\n",
        "print(rms)"
      ]
    },
    {
      "cell_type": "code",
      "execution_count": 58,
      "metadata": {
        "colab": {
          "base_uri": "https://localhost:8080/",
          "height": 302
        },
        "id": "XgXa-ouRMhWr",
        "outputId": "c23f03d4-f6f4-49eb-cbcc-bcd52573b12a"
      },
      "outputs": [
        {
          "name": "stdout",
          "output_type": "stream",
          "text": [
            "[ 5.97290496e-04 -6.10274544e-02  2.06267872e+00 -2.61887664e+01\n",
            "  1.73434557e+02]\n"
          ]
        },
        {
          "data": {
            "image/png": "[encoded data removed]",
            "text/plain": [
              "<Figure size 432x288 with 1 Axes>"
            ]
          },
          "metadata": {
            "needs_background": "light"
          },
          "output_type": "display_data"
        }
      ],
      "source": [
        "# Generating weights for polynomial function with degree\n",
        "weights = np.polyfit(X_train, y_train, 4)\n",
        "print(weights)\n",
        "\n",
        "# Generating model with the given weights\n",
        "model = np.poly1d(weights)\n",
        "\n",
        "# Prediction on validation set\n",
        "pred = model(X_test)\n",
        "\n",
        "# We will plot the graph\n",
        "xp = np.linspace(X_test.min(),X_test.max())\n",
        "pred_plot = model(xp)\n",
        "plt.scatter(X_test, y_test, facecolor='None', edgecolor='k', alpha=0.3)\n",
        "plt.plot(xp, pred_plot)\n",
        "plt.show()"
      ]
    }
  ],
  "metadata": {
    "colab": {
      "collapsed_sections": [],
      "name": "Final_Project_ML_Draft.ipynb",
      "provenance": []
    },
    "kernelspec": {
      "display_name": "Python 3",
      "name": "python3"
    },
    "language_info": {
      "name": "python"
    }
  },
  "nbformat": 4,
  "nbformat_minor": 0
}
