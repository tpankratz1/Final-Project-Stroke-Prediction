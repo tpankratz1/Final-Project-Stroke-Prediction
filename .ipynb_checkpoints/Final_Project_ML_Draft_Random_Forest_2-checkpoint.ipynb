{
 "cells": [
  {
   "cell_type": "code",
   "execution_count": 369,
   "metadata": {},
   "outputs": [],
   "source": [
    "import pandas as pd"
   ]
  },
  {
   "cell_type": "code",
   "execution_count": 370,
   "metadata": {
    "colab": {
     "base_uri": "https://localhost:8080/"
    },
    "id": "zA9AXxkX8G1B",
    "outputId": "0d9fb0d6-d9de-4111-805a-5c9c277f9203"
   },
   "outputs": [
    {
     "data": {
      "text/html": [
       "<div>\n",
       "<style scoped>\n",
       "    .dataframe tbody tr th:only-of-type {\n",
       "        vertical-align: middle;\n",
       "    }\n",
       "\n",
       "    .dataframe tbody tr th {\n",
       "        vertical-align: top;\n",
       "    }\n",
       "\n",
       "    .dataframe thead th {\n",
       "        text-align: right;\n",
       "    }\n",
       "</style>\n",
       "<table border=\"1\" class=\"dataframe\">\n",
       "  <thead>\n",
       "    <tr style=\"text-align: right;\">\n",
       "      <th></th>\n",
       "      <th>FIPS</th>\n",
       "      <th>Num_Per_100k</th>\n",
       "      <th>State</th>\n",
       "      <th>County</th>\n",
       "      <th>Percent_Smokers</th>\n",
       "      <th>Percent_Obese</th>\n",
       "      <th>Food_Environment_Index</th>\n",
       "      <th>Percent_Access_Exercise</th>\n",
       "      <th>Primary_Care_Physician_Rate</th>\n",
       "      <th>Mental_Health_Providers_Rate</th>\n",
       "      <th>Percent_Some_College</th>\n",
       "      <th>Percent_Unemployed</th>\n",
       "      <th>Income_Inequality_Ratio</th>\n",
       "      <th>Violent_Crime_Rate</th>\n",
       "      <th>Average_Daily_Air_Polution_Particle_Matter</th>\n",
       "      <th>Percent_Long_Commute_Drives_Alone</th>\n",
       "      <th>Percent_Rural</th>\n",
       "    </tr>\n",
       "  </thead>\n",
       "  <tbody>\n",
       "    <tr>\n",
       "      <th>0</th>\n",
       "      <td>1001</td>\n",
       "      <td>107.0</td>\n",
       "      <td>Alabama</td>\n",
       "      <td>Autauga</td>\n",
       "      <td>19.0</td>\n",
       "      <td>36.0</td>\n",
       "      <td>7.1</td>\n",
       "      <td>71.0</td>\n",
       "      <td>45.0</td>\n",
       "      <td>13.0</td>\n",
       "      <td>61.9</td>\n",
       "      <td>5.3</td>\n",
       "      <td>4.4</td>\n",
       "      <td>266.0</td>\n",
       "      <td>10.8</td>\n",
       "      <td>41.0</td>\n",
       "      <td>42.0</td>\n",
       "    </tr>\n",
       "    <tr>\n",
       "      <th>1</th>\n",
       "      <td>1003</td>\n",
       "      <td>82.5</td>\n",
       "      <td>Alabama</td>\n",
       "      <td>Baldwin</td>\n",
       "      <td>17.0</td>\n",
       "      <td>29.0</td>\n",
       "      <td>7.9</td>\n",
       "      <td>69.0</td>\n",
       "      <td>73.0</td>\n",
       "      <td>89.0</td>\n",
       "      <td>63.8</td>\n",
       "      <td>5.4</td>\n",
       "      <td>4.6</td>\n",
       "      <td>217.0</td>\n",
       "      <td>9.6</td>\n",
       "      <td>40.0</td>\n",
       "      <td>42.3</td>\n",
       "    </tr>\n",
       "    <tr>\n",
       "      <th>2</th>\n",
       "      <td>1005</td>\n",
       "      <td>96.1</td>\n",
       "      <td>Alabama</td>\n",
       "      <td>Barbour</td>\n",
       "      <td>22.0</td>\n",
       "      <td>44.0</td>\n",
       "      <td>5.5</td>\n",
       "      <td>53.0</td>\n",
       "      <td>42.0</td>\n",
       "      <td>8.0</td>\n",
       "      <td>39.7</td>\n",
       "      <td>8.6</td>\n",
       "      <td>5.9</td>\n",
       "      <td>329.0</td>\n",
       "      <td>10.1</td>\n",
       "      <td>35.0</td>\n",
       "      <td>67.8</td>\n",
       "    </tr>\n",
       "    <tr>\n",
       "      <th>3</th>\n",
       "      <td>1007</td>\n",
       "      <td>112.3</td>\n",
       "      <td>Alabama</td>\n",
       "      <td>Bibb</td>\n",
       "      <td>20.0</td>\n",
       "      <td>38.0</td>\n",
       "      <td>7.6</td>\n",
       "      <td>49.0</td>\n",
       "      <td>53.0</td>\n",
       "      <td>9.0</td>\n",
       "      <td>49.8</td>\n",
       "      <td>6.6</td>\n",
       "      <td>4.2</td>\n",
       "      <td>147.0</td>\n",
       "      <td>10.5</td>\n",
       "      <td>49.0</td>\n",
       "      <td>68.4</td>\n",
       "    </tr>\n",
       "    <tr>\n",
       "      <th>4</th>\n",
       "      <td>1009</td>\n",
       "      <td>96.1</td>\n",
       "      <td>Alabama</td>\n",
       "      <td>Blount</td>\n",
       "      <td>20.0</td>\n",
       "      <td>36.0</td>\n",
       "      <td>8.5</td>\n",
       "      <td>32.0</td>\n",
       "      <td>21.0</td>\n",
       "      <td>9.0</td>\n",
       "      <td>53.9</td>\n",
       "      <td>5.5</td>\n",
       "      <td>4.1</td>\n",
       "      <td>212.0</td>\n",
       "      <td>11.3</td>\n",
       "      <td>60.0</td>\n",
       "      <td>90.0</td>\n",
       "    </tr>\n",
       "  </tbody>\n",
       "</table>\n",
       "</div>"
      ],
      "text/plain": [
       "   FIPS  Num_Per_100k    State   County  Percent_Smokers  Percent_Obese  \\\n",
       "0  1001         107.0  Alabama  Autauga             19.0           36.0   \n",
       "1  1003          82.5  Alabama  Baldwin             17.0           29.0   \n",
       "2  1005          96.1  Alabama  Barbour             22.0           44.0   \n",
       "3  1007         112.3  Alabama     Bibb             20.0           38.0   \n",
       "4  1009          96.1  Alabama   Blount             20.0           36.0   \n",
       "\n",
       "   Food_Environment_Index  Percent_Access_Exercise  \\\n",
       "0                     7.1                     71.0   \n",
       "1                     7.9                     69.0   \n",
       "2                     5.5                     53.0   \n",
       "3                     7.6                     49.0   \n",
       "4                     8.5                     32.0   \n",
       "\n",
       "   Primary_Care_Physician_Rate  Mental_Health_Providers_Rate  \\\n",
       "0                         45.0                          13.0   \n",
       "1                         73.0                          89.0   \n",
       "2                         42.0                           8.0   \n",
       "3                         53.0                           9.0   \n",
       "4                         21.0                           9.0   \n",
       "\n",
       "   Percent_Some_College  Percent_Unemployed  Income_Inequality_Ratio  \\\n",
       "0                  61.9                 5.3                      4.4   \n",
       "1                  63.8                 5.4                      4.6   \n",
       "2                  39.7                 8.6                      5.9   \n",
       "3                  49.8                 6.6                      4.2   \n",
       "4                  53.9                 5.5                      4.1   \n",
       "\n",
       "   Violent_Crime_Rate  Average_Daily_Air_Polution_Particle_Matter  \\\n",
       "0               266.0                                        10.8   \n",
       "1               217.0                                         9.6   \n",
       "2               329.0                                        10.1   \n",
       "3               147.0                                        10.5   \n",
       "4               212.0                                        11.3   \n",
       "\n",
       "   Percent_Long_Commute_Drives_Alone  Percent_Rural  \n",
       "0                               41.0           42.0  \n",
       "1                               40.0           42.3  \n",
       "2                               35.0           67.8  \n",
       "3                               49.0           68.4  \n",
       "4                               60.0           90.0  "
      ]
     },
     "execution_count": 370,
     "metadata": {},
     "output_type": "execute_result"
    }
   ],
   "source": [
    "all_data_df = pd.read_csv(\"Data/All_Data.csv\")\n",
    "all_data_df.head()"
   ]
  },
  {
   "cell_type": "code",
   "execution_count": 371,
   "metadata": {
    "colab": {
     "base_uri": "https://localhost:8080/"
    },
    "id": "SImMbQ008ScQ",
    "outputId": "c1455eec-0f3c-4cb3-952b-2b441286a072"
   },
   "outputs": [
    {
     "data": {
      "text/plain": [
       "(3142, 17)"
      ]
     },
     "execution_count": 371,
     "metadata": {},
     "output_type": "execute_result"
    }
   ],
   "source": [
    "all_data_df.shape"
   ]
  },
  {
   "cell_type": "code",
   "execution_count": 372,
   "metadata": {
    "id": "UvOdq-tV8VLw"
   },
   "outputs": [],
   "source": [
    "# Import dependencies\n",
    "from sklearn.model_selection import train_test_split\n",
    "from sklearn.preprocessing import StandardScaler,OneHotEncoder\n",
    "import pandas as pd\n",
    "# import tensorflow as tf"
   ]
  },
  {
   "cell_type": "code",
   "execution_count": 373,
   "metadata": {
    "colab": {
     "base_uri": "https://localhost:8080/"
    },
    "id": "QlVQU8O_8Y84",
    "outputId": "542aed4d-5e62-44ca-e87e-948dc7fa7d16"
   },
   "outputs": [
    {
     "data": {
      "text/plain": [
       "FIPS                                            0\n",
       "Num_Per_100k                                    7\n",
       "State                                           0\n",
       "County                                          0\n",
       "Percent_Smokers                                 0\n",
       "Percent_Obese                                   0\n",
       "Food_Environment_Index                         19\n",
       "Percent_Access_Exercise                         6\n",
       "Primary_Care_Physician_Rate                   134\n",
       "Mental_Health_Providers_Rate                  264\n",
       "Percent_Some_College                            0\n",
       "Percent_Unemployed                              1\n",
       "Income_Inequality_Ratio                         2\n",
       "Violent_Crime_Rate                            176\n",
       "Average_Daily_Air_Polution_Particle_Matter     34\n",
       "Percent_Long_Commute_Drives_Alone               0\n",
       "Percent_Rural                                   7\n",
       "dtype: int64"
      ]
     },
     "execution_count": 373,
     "metadata": {},
     "output_type": "execute_result"
    }
   ],
   "source": [
    "# Check for null values\n",
    "all_data_df.isnull().sum()"
   ]
  },
  {
   "cell_type": "code",
   "execution_count": 374,
   "metadata": {
    "id": "CkowY4mV8bhH"
   },
   "outputs": [],
   "source": [
    "# Drop null values\n",
    "all_data_df = all_data_df.dropna(axis=0)"
   ]
  },
  {
   "cell_type": "code",
   "execution_count": 375,
   "metadata": {
    "colab": {
     "base_uri": "https://localhost:8080/",
     "height": 305
    },
    "id": "cAQukka68eNP",
    "outputId": "7119c27e-7b33-4747-ccf2-ffac746b0099"
   },
   "outputs": [
    {
     "name": "stderr",
     "output_type": "stream",
     "text": [
      "/var/folders/73/r2ypb6197z34qqk9hr4zj9900000gn/T/ipykernel_66113/1828287075.py:2: FutureWarning: In a future version of pandas all arguments of DataFrame.drop except for the argument 'labels' will be keyword-only\n",
      "  all_data_usable_df = all_data_df.drop([\"FIPS\", \"State\", \"County\"], 1)\n"
     ]
    },
    {
     "data": {
      "text/html": [
       "<div>\n",
       "<style scoped>\n",
       "    .dataframe tbody tr th:only-of-type {\n",
       "        vertical-align: middle;\n",
       "    }\n",
       "\n",
       "    .dataframe tbody tr th {\n",
       "        vertical-align: top;\n",
       "    }\n",
       "\n",
       "    .dataframe thead th {\n",
       "        text-align: right;\n",
       "    }\n",
       "</style>\n",
       "<table border=\"1\" class=\"dataframe\">\n",
       "  <thead>\n",
       "    <tr style=\"text-align: right;\">\n",
       "      <th></th>\n",
       "      <th>Num_Per_100k</th>\n",
       "      <th>Percent_Smokers</th>\n",
       "      <th>Percent_Obese</th>\n",
       "      <th>Food_Environment_Index</th>\n",
       "      <th>Percent_Access_Exercise</th>\n",
       "      <th>Primary_Care_Physician_Rate</th>\n",
       "      <th>Mental_Health_Providers_Rate</th>\n",
       "      <th>Percent_Some_College</th>\n",
       "      <th>Percent_Unemployed</th>\n",
       "      <th>Income_Inequality_Ratio</th>\n",
       "      <th>Violent_Crime_Rate</th>\n",
       "      <th>Average_Daily_Air_Polution_Particle_Matter</th>\n",
       "      <th>Percent_Long_Commute_Drives_Alone</th>\n",
       "      <th>Percent_Rural</th>\n",
       "    </tr>\n",
       "  </thead>\n",
       "  <tbody>\n",
       "    <tr>\n",
       "      <th>0</th>\n",
       "      <td>107.0</td>\n",
       "      <td>19.0</td>\n",
       "      <td>36.0</td>\n",
       "      <td>7.1</td>\n",
       "      <td>71.0</td>\n",
       "      <td>45.0</td>\n",
       "      <td>13.0</td>\n",
       "      <td>61.9</td>\n",
       "      <td>5.3</td>\n",
       "      <td>4.4</td>\n",
       "      <td>266.0</td>\n",
       "      <td>10.8</td>\n",
       "      <td>41.0</td>\n",
       "      <td>42.0</td>\n",
       "    </tr>\n",
       "    <tr>\n",
       "      <th>1</th>\n",
       "      <td>82.5</td>\n",
       "      <td>17.0</td>\n",
       "      <td>29.0</td>\n",
       "      <td>7.9</td>\n",
       "      <td>69.0</td>\n",
       "      <td>73.0</td>\n",
       "      <td>89.0</td>\n",
       "      <td>63.8</td>\n",
       "      <td>5.4</td>\n",
       "      <td>4.6</td>\n",
       "      <td>217.0</td>\n",
       "      <td>9.6</td>\n",
       "      <td>40.0</td>\n",
       "      <td>42.3</td>\n",
       "    </tr>\n",
       "    <tr>\n",
       "      <th>2</th>\n",
       "      <td>96.1</td>\n",
       "      <td>22.0</td>\n",
       "      <td>44.0</td>\n",
       "      <td>5.5</td>\n",
       "      <td>53.0</td>\n",
       "      <td>42.0</td>\n",
       "      <td>8.0</td>\n",
       "      <td>39.7</td>\n",
       "      <td>8.6</td>\n",
       "      <td>5.9</td>\n",
       "      <td>329.0</td>\n",
       "      <td>10.1</td>\n",
       "      <td>35.0</td>\n",
       "      <td>67.8</td>\n",
       "    </tr>\n",
       "    <tr>\n",
       "      <th>3</th>\n",
       "      <td>112.3</td>\n",
       "      <td>20.0</td>\n",
       "      <td>38.0</td>\n",
       "      <td>7.6</td>\n",
       "      <td>49.0</td>\n",
       "      <td>53.0</td>\n",
       "      <td>9.0</td>\n",
       "      <td>49.8</td>\n",
       "      <td>6.6</td>\n",
       "      <td>4.2</td>\n",
       "      <td>147.0</td>\n",
       "      <td>10.5</td>\n",
       "      <td>49.0</td>\n",
       "      <td>68.4</td>\n",
       "    </tr>\n",
       "    <tr>\n",
       "      <th>4</th>\n",
       "      <td>96.1</td>\n",
       "      <td>20.0</td>\n",
       "      <td>36.0</td>\n",
       "      <td>8.5</td>\n",
       "      <td>32.0</td>\n",
       "      <td>21.0</td>\n",
       "      <td>9.0</td>\n",
       "      <td>53.9</td>\n",
       "      <td>5.5</td>\n",
       "      <td>4.1</td>\n",
       "      <td>212.0</td>\n",
       "      <td>11.3</td>\n",
       "      <td>60.0</td>\n",
       "      <td>90.0</td>\n",
       "    </tr>\n",
       "  </tbody>\n",
       "</table>\n",
       "</div>"
      ],
      "text/plain": [
       "   Num_Per_100k  Percent_Smokers  Percent_Obese  Food_Environment_Index  \\\n",
       "0         107.0             19.0           36.0                     7.1   \n",
       "1          82.5             17.0           29.0                     7.9   \n",
       "2          96.1             22.0           44.0                     5.5   \n",
       "3         112.3             20.0           38.0                     7.6   \n",
       "4          96.1             20.0           36.0                     8.5   \n",
       "\n",
       "   Percent_Access_Exercise  Primary_Care_Physician_Rate  \\\n",
       "0                     71.0                         45.0   \n",
       "1                     69.0                         73.0   \n",
       "2                     53.0                         42.0   \n",
       "3                     49.0                         53.0   \n",
       "4                     32.0                         21.0   \n",
       "\n",
       "   Mental_Health_Providers_Rate  Percent_Some_College  Percent_Unemployed  \\\n",
       "0                          13.0                  61.9                 5.3   \n",
       "1                          89.0                  63.8                 5.4   \n",
       "2                           8.0                  39.7                 8.6   \n",
       "3                           9.0                  49.8                 6.6   \n",
       "4                           9.0                  53.9                 5.5   \n",
       "\n",
       "   Income_Inequality_Ratio  Violent_Crime_Rate  \\\n",
       "0                      4.4               266.0   \n",
       "1                      4.6               217.0   \n",
       "2                      5.9               329.0   \n",
       "3                      4.2               147.0   \n",
       "4                      4.1               212.0   \n",
       "\n",
       "   Average_Daily_Air_Polution_Particle_Matter  \\\n",
       "0                                        10.8   \n",
       "1                                         9.6   \n",
       "2                                        10.1   \n",
       "3                                        10.5   \n",
       "4                                        11.3   \n",
       "\n",
       "   Percent_Long_Commute_Drives_Alone  Percent_Rural  \n",
       "0                               41.0           42.0  \n",
       "1                               40.0           42.3  \n",
       "2                               35.0           67.8  \n",
       "3                               49.0           68.4  \n",
       "4                               60.0           90.0  "
      ]
     },
     "execution_count": 375,
     "metadata": {},
     "output_type": "execute_result"
    }
   ],
   "source": [
    "# Drop identifier columns\n",
    "all_data_usable_df = all_data_df.drop([\"FIPS\", \"State\", \"County\"], 1)\n",
    "all_data_usable_df.head()"
   ]
  },
  {
   "cell_type": "code",
   "execution_count": 376,
   "metadata": {
    "colab": {
     "base_uri": "https://localhost:8080/"
    },
    "id": "vAbtNwHx8gCn",
    "outputId": "003c589b-e44b-4759-e7e4-95b7ce8b0489"
   },
   "outputs": [
    {
     "data": {
      "text/plain": [
       "Num_Per_100k                                  0\n",
       "Percent_Smokers                               0\n",
       "Percent_Obese                                 0\n",
       "Food_Environment_Index                        0\n",
       "Percent_Access_Exercise                       0\n",
       "Primary_Care_Physician_Rate                   0\n",
       "Mental_Health_Providers_Rate                  0\n",
       "Percent_Some_College                          0\n",
       "Percent_Unemployed                            0\n",
       "Income_Inequality_Ratio                       0\n",
       "Violent_Crime_Rate                            0\n",
       "Average_Daily_Air_Polution_Particle_Matter    0\n",
       "Percent_Long_Commute_Drives_Alone             0\n",
       "Percent_Rural                                 0\n",
       "dtype: int64"
      ]
     },
     "execution_count": 376,
     "metadata": {},
     "output_type": "execute_result"
    }
   ],
   "source": [
    "# Check for null values\n",
    "all_data_usable_df.isnull().sum()"
   ]
  },
  {
   "cell_type": "code",
   "execution_count": 377,
   "metadata": {
    "colab": {
     "base_uri": "https://localhost:8080/"
    },
    "id": "cWxWRntTNqhp",
    "outputId": "82bad09c-0142-4fa8-f5ee-b6a5f684e915"
   },
   "outputs": [
    {
     "data": {
      "text/plain": [
       "(2645, 14)"
      ]
     },
     "execution_count": 377,
     "metadata": {},
     "output_type": "execute_result"
    }
   ],
   "source": [
    "all_data_usable_df.shape"
   ]
  },
  {
   "cell_type": "code",
   "execution_count": 378,
   "metadata": {},
   "outputs": [],
   "source": [
    "# X = all_data_usable_df.iloc[:, 0:13].values\n",
    "# y = all_data_usable_df.iloc[:, 0].values"
   ]
  },
  {
   "cell_type": "code",
   "execution_count": 383,
   "metadata": {},
   "outputs": [
    {
     "data": {
      "text/plain": [
       "array([[107. ,  19. ,  36. , ..., 266. ,  10.8,  41. ],\n",
       "       [ 82.5,  17. ,  29. , ..., 217. ,   9.6,  40. ],\n",
       "       [ 96.1,  22. ,  44. , ..., 329. ,  10.1,  35. ],\n",
       "       ...,\n",
       "       [ 52.8,  18. ,  32. , ...,  40. ,   6.7,  18. ],\n",
       "       [ 66.3,  16. ,  27. , ...,  79. ,   6.4,  10. ],\n",
       "       [ 60. ,  17. ,  32. , ..., 143. ,   6.7,  22. ]])"
      ]
     },
     "execution_count": 383,
     "metadata": {},
     "output_type": "execute_result"
    }
   ],
   "source": [
    "# X = all_data_usable_df.Num_Per_100k\n",
    "# X"
   ]
  },
  {
   "cell_type": "code",
   "execution_count": 367,
   "metadata": {
    "id": "4WnTS2az8kQI"
   },
   "outputs": [],
   "source": [
    "# https://stackabuse.com/random-forest-algorithm-with-python-and-scikit-learn/\n",
    "# divide data into attributes and labels\n",
    "\n",
    "X = all_data_usable_df.iloc[:, 1:13].values\n",
    "y = all_data_usable_df.iloc[:, 0].values"
   ]
  },
  {
   "cell_type": "code",
   "execution_count": 340,
   "metadata": {},
   "outputs": [
    {
     "name": "stderr",
     "output_type": "stream",
     "text": [
      "/var/folders/73/r2ypb6197z34qqk9hr4zj9900000gn/T/ipykernel_66113/1540445154.py:1: FutureWarning: In a future version of pandas all arguments of DataFrame.drop except for the argument 'labels' will be keyword-only\n",
      "  X = all_data_usable_df.drop([\"Num_Per_100k\"], 1)\n"
     ]
    }
   ],
   "source": [
    "X = all_data_usable_df.drop([\"Num_Per_100k\"], 1)\n",
    "y = pd.DataFrame(all_data_usable_df[\"Num_Per_100k\"])"
   ]
  },
  {
   "cell_type": "code",
   "execution_count": 368,
   "metadata": {},
   "outputs": [
    {
     "data": {
      "text/plain": [
       "array([[ 19. ,  36. ,   7.1, ..., 266. ,  10.8,  41. ],\n",
       "       [ 17. ,  29. ,   7.9, ..., 217. ,   9.6,  40. ],\n",
       "       [ 22. ,  44. ,   5.5, ..., 329. ,  10.1,  35. ],\n",
       "       ...,\n",
       "       [ 18. ,  32. ,   7.6, ...,  40. ,   6.7,  18. ],\n",
       "       [ 16. ,  27. ,   8.4, ...,  79. ,   6.4,  10. ],\n",
       "       [ 17. ,  32. ,   8.1, ..., 143. ,   6.7,  22. ]])"
      ]
     },
     "execution_count": 368,
     "metadata": {},
     "output_type": "execute_result"
    }
   ],
   "source": [
    "X"
   ]
  },
  {
   "cell_type": "code",
   "execution_count": 342,
   "metadata": {},
   "outputs": [
    {
     "data": {
      "text/html": [
       "<div>\n",
       "<style scoped>\n",
       "    .dataframe tbody tr th:only-of-type {\n",
       "        vertical-align: middle;\n",
       "    }\n",
       "\n",
       "    .dataframe tbody tr th {\n",
       "        vertical-align: top;\n",
       "    }\n",
       "\n",
       "    .dataframe thead th {\n",
       "        text-align: right;\n",
       "    }\n",
       "</style>\n",
       "<table border=\"1\" class=\"dataframe\">\n",
       "  <thead>\n",
       "    <tr style=\"text-align: right;\">\n",
       "      <th></th>\n",
       "      <th>Num_Per_100k</th>\n",
       "    </tr>\n",
       "  </thead>\n",
       "  <tbody>\n",
       "    <tr>\n",
       "      <th>0</th>\n",
       "      <td>107.0</td>\n",
       "    </tr>\n",
       "    <tr>\n",
       "      <th>1</th>\n",
       "      <td>82.5</td>\n",
       "    </tr>\n",
       "    <tr>\n",
       "      <th>2</th>\n",
       "      <td>96.1</td>\n",
       "    </tr>\n",
       "    <tr>\n",
       "      <th>3</th>\n",
       "      <td>112.3</td>\n",
       "    </tr>\n",
       "    <tr>\n",
       "      <th>4</th>\n",
       "      <td>96.1</td>\n",
       "    </tr>\n",
       "    <tr>\n",
       "      <th>...</th>\n",
       "      <td>...</td>\n",
       "    </tr>\n",
       "    <tr>\n",
       "      <th>3136</th>\n",
       "      <td>44.1</td>\n",
       "    </tr>\n",
       "    <tr>\n",
       "      <th>3137</th>\n",
       "      <td>57.7</td>\n",
       "    </tr>\n",
       "    <tr>\n",
       "      <th>3139</th>\n",
       "      <td>52.8</td>\n",
       "    </tr>\n",
       "    <tr>\n",
       "      <th>3140</th>\n",
       "      <td>66.3</td>\n",
       "    </tr>\n",
       "    <tr>\n",
       "      <th>3141</th>\n",
       "      <td>60.0</td>\n",
       "    </tr>\n",
       "  </tbody>\n",
       "</table>\n",
       "<p>2645 rows × 1 columns</p>\n",
       "</div>"
      ],
      "text/plain": [
       "      Num_Per_100k\n",
       "0            107.0\n",
       "1             82.5\n",
       "2             96.1\n",
       "3            112.3\n",
       "4             96.1\n",
       "...            ...\n",
       "3136          44.1\n",
       "3137          57.7\n",
       "3139          52.8\n",
       "3140          66.3\n",
       "3141          60.0\n",
       "\n",
       "[2645 rows x 1 columns]"
      ]
     },
     "execution_count": 342,
     "metadata": {},
     "output_type": "execute_result"
    }
   ],
   "source": [
    "y"
   ]
  },
  {
   "cell_type": "code",
   "execution_count": 379,
   "metadata": {
    "id": "GNmk-NVM9OCY"
   },
   "outputs": [],
   "source": [
    "# divide data into training and testing sets\n",
    "\n",
    "from sklearn.model_selection import train_test_split\n",
    "\n",
    "X_train, X_test, y_train, y_test = train_test_split(X, y, test_size=0.2, random_state=0)"
   ]
  },
  {
   "cell_type": "code",
   "execution_count": 380,
   "metadata": {
    "id": "sjCathZU9dhj"
   },
   "outputs": [],
   "source": [
    "# Feature Scaling\n",
    "from sklearn.preprocessing import StandardScaler\n",
    "\n",
    "sc = StandardScaler()\n",
    "X_train = sc.fit_transform(X_train)\n",
    "X_test = sc.transform(X_test)"
   ]
  },
  {
   "cell_type": "code",
   "execution_count": 381,
   "metadata": {
    "id": "negZLKOY9hnK"
   },
   "outputs": [],
   "source": [
    "# train random forest algorithm to solve this regression problem\n",
    "\n",
    "from sklearn.ensemble import RandomForestRegressor\n",
    "\n",
    "regressor = RandomForestRegressor(n_estimators=20, random_state=0)\n",
    "regressor.fit(X_train, y_train)\n",
    "y_pred = regressor.predict(X_test)"
   ]
  },
  {
   "cell_type": "code",
   "execution_count": 382,
   "metadata": {
    "colab": {
     "base_uri": "https://localhost:8080/"
    },
    "id": "Kiemd3Pb9kDT",
    "outputId": "927ade8c-5b5c-404b-99e7-a1533501bdc0"
   },
   "outputs": [
    {
     "name": "stdout",
     "output_type": "stream",
     "text": [
      "Mean Absolute Error: 0.05077504725897904\n",
      "Mean Squared Error: 0.0935166351606803\n",
      "Root Mean Squared Error: 0.30580489721500587\n"
     ]
    }
   ],
   "source": [
    "from sklearn import metrics\n",
    "import numpy as np\n",
    "\n",
    "print('Mean Absolute Error:', metrics.mean_absolute_error(y_test, y_pred))\n",
    "print('Mean Squared Error:', metrics.mean_squared_error(y_test, y_pred))\n",
    "print('Root Mean Squared Error:', np.sqrt(metrics.mean_squared_error(y_test, y_pred)))"
   ]
  },
  {
   "cell_type": "code",
   "execution_count": 278,
   "metadata": {
    "id": "bh7x_oS4-cgA"
   },
   "outputs": [
    {
     "name": "stderr",
     "output_type": "stream",
     "text": [
      "/var/folders/73/r2ypb6197z34qqk9hr4zj9900000gn/T/ipykernel_66113/3883392741.py:4: DataConversionWarning: A column-vector y was passed when a 1d array was expected. Please change the shape of y to (n_samples,), for example using ravel().\n",
      "  regressor.fit(X_train, y_train)\n"
     ]
    }
   ],
   "source": [
    "# increase estimators to 50\n",
    "\n",
    "regressor = RandomForestRegressor(n_estimators=50, random_state=0)\n",
    "regressor.fit(X_train, y_train)\n",
    "y_pred = regressor.predict(X_test)"
   ]
  },
  {
   "cell_type": "code",
   "execution_count": 189,
   "metadata": {
    "colab": {
     "base_uri": "https://localhost:8080/"
    },
    "id": "awwQXfpv-ymu",
    "outputId": "4e788a71-4a5c-4a84-b355-9c15f34a0f13"
   },
   "outputs": [
    {
     "name": "stdout",
     "output_type": "stream",
     "text": [
      "Mean Absolute Error: 10.457602826537043\n",
      "Mean Squared Error: 176.9146424169212\n",
      "Root Mean Squared Error: 13.300926374389162\n"
     ]
    }
   ],
   "source": [
    "print('Mean Absolute Error:', metrics.mean_absolute_error(y_test, y_pred))\n",
    "print('Mean Squared Error:', metrics.mean_squared_error(y_test, y_pred))\n",
    "print('Root Mean Squared Error:', np.sqrt(metrics.mean_squared_error(y_test, y_pred)))"
   ]
  },
  {
   "cell_type": "code",
   "execution_count": 190,
   "metadata": {
    "id": "2YHGITKr-2lN"
   },
   "outputs": [],
   "source": [
    "# increase estimators to 30\n",
    "\n",
    "regressor = RandomForestRegressor(n_estimators=30, random_state=0)\n",
    "regressor.fit(X_train, y_train)\n",
    "y_pred = regressor.predict(X_test)"
   ]
  },
  {
   "cell_type": "code",
   "execution_count": 191,
   "metadata": {
    "colab": {
     "base_uri": "https://localhost:8080/"
    },
    "id": "rUULDgT4-9L1",
    "outputId": "b752d48a-417d-4036-97eb-f085caa5100f"
   },
   "outputs": [
    {
     "name": "stdout",
     "output_type": "stream",
     "text": [
      "Mean Absolute Error: 10.478728313379543\n",
      "Mean Squared Error: 178.42249915156128\n",
      "Root Mean Squared Error: 13.357488504638935\n"
     ]
    }
   ],
   "source": [
    "print('Mean Absolute Error:', metrics.mean_absolute_error(y_test, y_pred))\n",
    "print('Mean Squared Error:', metrics.mean_squared_error(y_test, y_pred))\n",
    "print('Root Mean Squared Error:', np.sqrt(metrics.mean_squared_error(y_test, y_pred)))"
   ]
  },
  {
   "cell_type": "code",
   "execution_count": 192,
   "metadata": {
    "colab": {
     "base_uri": "https://localhost:8080/"
    },
    "id": "bJHDFjeg_DUI",
    "outputId": "2237ff9b-a355-4668-e80d-bac0a2a9700e"
   },
   "outputs": [
    {
     "data": {
      "text/plain": [
       "75.97550094517943"
      ]
     },
     "execution_count": 192,
     "metadata": {},
     "output_type": "execute_result"
    }
   ],
   "source": [
    "df2 = all_data_usable_df[\"Num_Per_100k\"].mean()\n",
    "df2"
   ]
  },
  {
   "cell_type": "code",
   "execution_count": 193,
   "metadata": {
    "id": "0K6ZSZwpATxa"
   },
   "outputs": [],
   "source": [
    "# look at data from first 6 columns only\n",
    "X = all_data_usable_df.iloc[:, 1:5].values\n",
    "y = all_data_usable_df.iloc[:, 0].values"
   ]
  },
  {
   "cell_type": "code",
   "execution_count": 194,
   "metadata": {
    "id": "0RV4ReztAmnW"
   },
   "outputs": [],
   "source": [
    "X_train, X_test, y_train, y_test = train_test_split(X, y, test_size=0.2, random_state=0)"
   ]
  },
  {
   "cell_type": "code",
   "execution_count": 195,
   "metadata": {
    "id": "_pPu1KJVAqwm"
   },
   "outputs": [],
   "source": [
    "sc = StandardScaler()\n",
    "X_train = sc.fit_transform(X_train)\n",
    "X_test = sc.transform(X_test)"
   ]
  },
  {
   "cell_type": "code",
   "execution_count": 196,
   "metadata": {
    "id": "Yx9HxbXxAt-L"
   },
   "outputs": [],
   "source": [
    "regressor = RandomForestRegressor(n_estimators=30, random_state=0)\n",
    "regressor.fit(X_train, y_train)\n",
    "y_pred = regressor.predict(X_test)"
   ]
  },
  {
   "cell_type": "code",
   "execution_count": 186,
   "metadata": {
    "colab": {
     "base_uri": "https://localhost:8080/"
    },
    "id": "O1KDA98HAxly",
    "outputId": "d081daae-02cb-4fe1-bd79-b9f8f61f2444"
   },
   "outputs": [
    {
     "name": "stdout",
     "output_type": "stream",
     "text": [
      "Mean Absolute Error: 10.478728313379543\n",
      "Mean Squared Error: 178.42249915156128\n",
      "Root Mean Squared Error: 13.357488504638935\n"
     ]
    }
   ],
   "source": [
    "print('Mean Absolute Error:', metrics.mean_absolute_error(y_test, y_pred))\n",
    "print('Mean Squared Error:', metrics.mean_squared_error(y_test, y_pred))\n",
    "print('Root Mean Squared Error:', np.sqrt(metrics.mean_squared_error(y_test, y_pred)))"
   ]
  },
  {
   "cell_type": "code",
   "execution_count": 221,
   "metadata": {
    "id": "dXtsk0z_A0vv"
   },
   "outputs": [],
   "source": [
    "# look at data from first 2 columns only\n",
    "X = all_data_usable_df.iloc[:, 1:2].values\n",
    "y = all_data_usable_df.iloc[:, 0].values"
   ]
  },
  {
   "cell_type": "code",
   "execution_count": 222,
   "metadata": {
    "id": "N0YdSCPvCuW9"
   },
   "outputs": [],
   "source": [
    "X_train, X_test, y_train, y_test = train_test_split(X, y, test_size=0.2, random_state=0)"
   ]
  },
  {
   "cell_type": "code",
   "execution_count": 223,
   "metadata": {
    "id": "FaVAaVsACw8u"
   },
   "outputs": [],
   "source": [
    "sc = StandardScaler()\n",
    "X_train = sc.fit_transform(X_train)\n",
    "X_test = sc.transform(X_test)"
   ]
  },
  {
   "cell_type": "code",
   "execution_count": 224,
   "metadata": {
    "id": "dcvmxNPXCzF-"
   },
   "outputs": [],
   "source": [
    "regressor = RandomForestRegressor(n_estimators=30, random_state=0)\n",
    "regressor.fit(X_train, y_train)\n",
    "y_pred = regressor.predict(X_test)"
   ]
  },
  {
   "cell_type": "code",
   "execution_count": 225,
   "metadata": {
    "colab": {
     "base_uri": "https://localhost:8080/"
    },
    "id": "PfylNs6wC1Cl",
    "outputId": "b9b76412-04e2-4d67-a4b0-c2b65928eda0"
   },
   "outputs": [
    {
     "name": "stdout",
     "output_type": "stream",
     "text": [
      "Mean Absolute Error: 10.58284294699337\n",
      "Mean Squared Error: 179.05883653456024\n",
      "Root Mean Squared Error: 13.381286804136598\n"
     ]
    }
   ],
   "source": [
    "print('Mean Absolute Error:', metrics.mean_absolute_error(y_test, y_pred))\n",
    "print('Mean Squared Error:', metrics.mean_squared_error(y_test, y_pred))\n",
    "print('Root Mean Squared Error:', np.sqrt(metrics.mean_squared_error(y_test, y_pred)))"
   ]
  },
  {
   "cell_type": "code",
   "execution_count": 247,
   "metadata": {
    "id": "rKEyGsdEEAg_"
   },
   "outputs": [],
   "source": [
    "import pandas as pd\n",
    "import numpy as np\n",
    "%matplotlib inline\n",
    "import matplotlib.pyplot as plt"
   ]
  },
  {
   "cell_type": "code",
   "execution_count": 248,
   "metadata": {
    "colab": {
     "base_uri": "https://localhost:8080/",
     "height": 680
    },
    "id": "fl9RyTGzC27t",
    "outputId": "b9e1b010-c2b8-46d3-ce59-f1774aed6b05"
   },
   "outputs": [
    {
     "ename": "ValueError",
     "evalue": "The truth value of an array with more than one element is ambiguous. Use a.any() or a.all()",
     "output_type": "error",
     "traceback": [
      "\u001b[0;31m---------------------------------------------------------------------------\u001b[0m",
      "\u001b[0;31mValueError\u001b[0m                                Traceback (most recent call last)",
      "\u001b[0;32m/var/folders/73/r2ypb6197z34qqk9hr4zj9900000gn/T/ipykernel_66113/2822048391.py\u001b[0m in \u001b[0;36m<module>\u001b[0;34m\u001b[0m\n\u001b[1;32m      1\u001b[0m \u001b[0;31m# https://builtin.com/data-science/random-forest-python\u001b[0m\u001b[0;34m\u001b[0m\u001b[0;34m\u001b[0m\u001b[0m\n\u001b[1;32m      2\u001b[0m \u001b[0;34m\u001b[0m\u001b[0m\n\u001b[0;32m----> 3\u001b[0;31m \u001b[0mX_grid\u001b[0m \u001b[0;34m=\u001b[0m \u001b[0mnp\u001b[0m\u001b[0;34m.\u001b[0m\u001b[0marange\u001b[0m\u001b[0;34m(\u001b[0m\u001b[0mmin\u001b[0m\u001b[0;34m(\u001b[0m\u001b[0mX\u001b[0m\u001b[0;34m)\u001b[0m\u001b[0;34m,\u001b[0m \u001b[0mmax\u001b[0m\u001b[0;34m(\u001b[0m\u001b[0mX\u001b[0m\u001b[0;34m)\u001b[0m\u001b[0;34m,\u001b[0m \u001b[0;36m0.01\u001b[0m\u001b[0;34m)\u001b[0m\u001b[0;34m\u001b[0m\u001b[0;34m\u001b[0m\u001b[0m\n\u001b[0m\u001b[1;32m      4\u001b[0m \u001b[0mX_grid\u001b[0m \u001b[0;34m=\u001b[0m \u001b[0mX_grid\u001b[0m\u001b[0;34m.\u001b[0m\u001b[0mreshape\u001b[0m\u001b[0;34m(\u001b[0m\u001b[0;34m(\u001b[0m\u001b[0mlen\u001b[0m\u001b[0;34m(\u001b[0m\u001b[0mX_grid\u001b[0m\u001b[0;34m)\u001b[0m\u001b[0;34m,\u001b[0m \u001b[0;36m1\u001b[0m\u001b[0;34m)\u001b[0m\u001b[0;34m)\u001b[0m\u001b[0;34m\u001b[0m\u001b[0;34m\u001b[0m\u001b[0m\n\u001b[1;32m      5\u001b[0m \u001b[0mplt\u001b[0m\u001b[0;34m.\u001b[0m\u001b[0mscatter\u001b[0m\u001b[0;34m(\u001b[0m\u001b[0mX\u001b[0m\u001b[0;34m,\u001b[0m \u001b[0my\u001b[0m\u001b[0;34m,\u001b[0m \u001b[0mcolor\u001b[0m \u001b[0;34m=\u001b[0m\u001b[0;34m'red'\u001b[0m\u001b[0;34m)\u001b[0m\u001b[0;34m\u001b[0m\u001b[0;34m\u001b[0m\u001b[0m\n",
      "\u001b[0;31mValueError\u001b[0m: The truth value of an array with more than one element is ambiguous. Use a.any() or a.all()"
     ]
    }
   ],
   "source": [
    "# https://builtin.com/data-science/random-forest-python\n",
    "\n",
    "X_grid = np.arange(min(X), max(X), 0.01)\n",
    "X_grid = X_grid.reshape((len(X_grid), 1))\n",
    "plt.scatter(X, y, color ='red')\n",
    "plt.plot(X_grid, regressor.predict(X_grid), color = 'blue')\n",
    "plt.title('Stroke Prediction (Random Forest Regression)')\n",
    "plt.xlabel('Smoking Percentage')\n",
    "plt.ylabel('Stroke Prediction')\n",
    "plt.show()"
   ]
  },
  {
   "cell_type": "code",
   "execution_count": 249,
   "metadata": {
    "id": "9FJL2ugaDl5F"
   },
   "outputs": [
    {
     "data": {
      "text/plain": [
       "array([0.21077636, 0.07308817, 0.1029724 , 0.04556969, 0.04780829,\n",
       "       0.0669515 , 0.05366654, 0.08428467, 0.07694833, 0.07923467,\n",
       "       0.10269426, 0.05600511])"
      ]
     },
     "execution_count": 249,
     "metadata": {},
     "output_type": "execute_result"
    }
   ],
   "source": [
    "# Calculate feature importance in the Random Forest model.\n",
    "importances = regressor.feature_importances_\n",
    "importances"
   ]
  },
  {
   "cell_type": "code",
   "execution_count": 252,
   "metadata": {},
   "outputs": [
    {
     "name": "stdout",
     "output_type": "stream",
     "text": [
      "5 most important features: [0, 2, 10, 7, 9]\n"
     ]
    }
   ],
   "source": [
    "# We can sort the features by their importance.\n",
    "\n",
    "important_features_dict = {}\n",
    "for idx, val in enumerate(regressor.feature_importances_):\n",
    "    important_features_dict[idx] = val\n",
    "\n",
    "important_features_list = sorted(important_features_dict,\n",
    "                                 key=important_features_dict.get,\n",
    "                                 reverse=True)\n",
    "\n",
    "print(f'5 most important features: {important_features_list[:5]}')"
   ]
  },
  {
   "cell_type": "code",
   "execution_count": null,
   "metadata": {},
   "outputs": [],
   "source": []
  }
 ],
 "metadata": {
  "colab": {
   "collapsed_sections": [],
   "name": "Final_Project_ML_Draft_Random_Forest",
   "provenance": []
  },
  "kernelspec": {
   "display_name": "Python 3 (ipykernel)",
   "language": "python",
   "name": "python3"
  },
  "language_info": {
   "codemirror_mode": {
    "name": "ipython",
    "version": 3
   },
   "file_extension": ".py",
   "mimetype": "text/x-python",
   "name": "python",
   "nbconvert_exporter": "python",
   "pygments_lexer": "ipython3",
   "version": "3.9.7"
  }
 },
 "nbformat": 4,
 "nbformat_minor": 1
}
