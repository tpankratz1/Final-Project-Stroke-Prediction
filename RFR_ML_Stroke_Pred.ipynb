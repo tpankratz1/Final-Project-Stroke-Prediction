{
 "cells": [
  {
   "cell_type": "code",
   "execution_count": 1,
   "metadata": {
    "colab": {
     "base_uri": "https://localhost:8080/"
    },
    "id": "dnQ2LZlaCX_2",
    "outputId": "aba3e241-34a2-4e5f-95eb-eb204e9cec6a"
   },
   "outputs": [
    {
     "name": "stderr",
     "output_type": "stream",
     "text": [
      "/usr/local/lib/python3.7/dist-packages/psycopg2/__init__.py:144: UserWarning: The psycopg2 wheel package will be renamed from release 2.8; in order to keep installing from binary please use \"pip install psycopg2-binary\" instead. For details see: <http://initd.org/psycopg/docs/install.html#binary-install-from-pypi>.\n",
      "  \"\"\")\n"
     ]
    }
   ],
   "source": [
    "# Import dependencies\n",
    "import psycopg2\n",
    "import pandas as pd\n",
    "from sklearn.model_selection import train_test_split\n",
    "from sklearn.preprocessing import StandardScaler,OneHotEncoder\n",
    "from sklearn.ensemble import RandomForestRegressor\n",
    "from sklearn import metrics\n",
    "import numpy as np\n",
    "from sklearn.metrics import classification_report, confusion_matrix, accuracy_score\n",
    "%matplotlib inline\n",
    "import matplotlib.pyplot as plt\n",
    "import pickle"
   ]
  },
  {
   "cell_type": "code",
   "execution_count": 2,
   "metadata": {
    "id": "WgHc0qnZ0AiE"
   },
   "outputs": [],
   "source": [
    "# Set up connection to database\n",
    "engine = psycopg2.connect(\n",
    "    database=\"stroke_dataset\",\n",
    "    user = \"postgres\",\n",
    "    password = \"bootcamp\",\n",
    "    host = \"final-project.cpi4gz0jwsu4.us-west-1.rds.amazonaws.com\",\n",
    "    port = '5432'\n",
    "    )\n",
    "\n",
    "cursor = engine.cursor()"
   ]
  },
  {
   "cell_type": "code",
   "execution_count": 3,
   "metadata": {
    "colab": {
     "base_uri": "https://localhost:8080/",
     "height": 270
    },
    "id": "pqqVb0ev0ArP",
    "outputId": "df70e51d-f405-4d86-d651-0df41dd0c6c6"
   },
   "outputs": [
    {
     "data": {
      "text/html": [
       "\n",
       "  <div id=\"df-e5f3a63b-3b84-45dd-828c-1ecf6987579e\">\n",
       "    <div class=\"colab-df-container\">\n",
       "      <div>\n",
       "<style scoped>\n",
       "    .dataframe tbody tr th:only-of-type {\n",
       "        vertical-align: middle;\n",
       "    }\n",
       "\n",
       "    .dataframe tbody tr th {\n",
       "        vertical-align: top;\n",
       "    }\n",
       "\n",
       "    .dataframe thead th {\n",
       "        text-align: right;\n",
       "    }\n",
       "</style>\n",
       "<table border=\"1\" class=\"dataframe\">\n",
       "  <thead>\n",
       "    <tr style=\"text-align: right;\">\n",
       "      <th></th>\n",
       "      <th>FIPS</th>\n",
       "      <th>Num_Per_100k</th>\n",
       "      <th>State</th>\n",
       "      <th>County</th>\n",
       "      <th>Percent_Smokers</th>\n",
       "      <th>Percent_Obese</th>\n",
       "      <th>Food_Environment_Index</th>\n",
       "      <th>Percent_Access_Exercise</th>\n",
       "      <th>Primary_Care_Physician_Rate</th>\n",
       "      <th>Mental_Health_Providers_Rate</th>\n",
       "      <th>Percent_Some_College</th>\n",
       "      <th>Percent_Unemployed</th>\n",
       "      <th>Income_Inequality_Ratio</th>\n",
       "      <th>Violent_Crime_Rate</th>\n",
       "      <th>Average_Daily_Air_Polution_Particle_Matter</th>\n",
       "      <th>Percent_Long_Commute_Drives_Alone</th>\n",
       "      <th>Percent_Rural</th>\n",
       "    </tr>\n",
       "  </thead>\n",
       "  <tbody>\n",
       "    <tr>\n",
       "      <th>0</th>\n",
       "      <td>1001.0</td>\n",
       "      <td>107.0</td>\n",
       "      <td>Alabama</td>\n",
       "      <td>Autauga</td>\n",
       "      <td>19.0</td>\n",
       "      <td>36.0</td>\n",
       "      <td>7.1</td>\n",
       "      <td>71.0</td>\n",
       "      <td>45.0</td>\n",
       "      <td>13.0</td>\n",
       "      <td>61.9</td>\n",
       "      <td>5.3</td>\n",
       "      <td>4.4</td>\n",
       "      <td>266.0</td>\n",
       "      <td>10.8</td>\n",
       "      <td>41.0</td>\n",
       "      <td>42.0</td>\n",
       "    </tr>\n",
       "    <tr>\n",
       "      <th>1</th>\n",
       "      <td>1003.0</td>\n",
       "      <td>82.5</td>\n",
       "      <td>Alabama</td>\n",
       "      <td>Baldwin</td>\n",
       "      <td>17.0</td>\n",
       "      <td>29.0</td>\n",
       "      <td>7.9</td>\n",
       "      <td>69.0</td>\n",
       "      <td>73.0</td>\n",
       "      <td>89.0</td>\n",
       "      <td>63.8</td>\n",
       "      <td>5.4</td>\n",
       "      <td>4.6</td>\n",
       "      <td>217.0</td>\n",
       "      <td>9.6</td>\n",
       "      <td>40.0</td>\n",
       "      <td>42.3</td>\n",
       "    </tr>\n",
       "    <tr>\n",
       "      <th>2</th>\n",
       "      <td>1005.0</td>\n",
       "      <td>96.1</td>\n",
       "      <td>Alabama</td>\n",
       "      <td>Barbour</td>\n",
       "      <td>22.0</td>\n",
       "      <td>44.0</td>\n",
       "      <td>5.5</td>\n",
       "      <td>53.0</td>\n",
       "      <td>42.0</td>\n",
       "      <td>8.0</td>\n",
       "      <td>39.7</td>\n",
       "      <td>8.6</td>\n",
       "      <td>5.9</td>\n",
       "      <td>329.0</td>\n",
       "      <td>10.1</td>\n",
       "      <td>35.0</td>\n",
       "      <td>67.8</td>\n",
       "    </tr>\n",
       "    <tr>\n",
       "      <th>3</th>\n",
       "      <td>1007.0</td>\n",
       "      <td>112.3</td>\n",
       "      <td>Alabama</td>\n",
       "      <td>Bibb</td>\n",
       "      <td>20.0</td>\n",
       "      <td>38.0</td>\n",
       "      <td>7.6</td>\n",
       "      <td>49.0</td>\n",
       "      <td>53.0</td>\n",
       "      <td>9.0</td>\n",
       "      <td>49.8</td>\n",
       "      <td>6.6</td>\n",
       "      <td>4.2</td>\n",
       "      <td>147.0</td>\n",
       "      <td>10.5</td>\n",
       "      <td>49.0</td>\n",
       "      <td>68.4</td>\n",
       "    </tr>\n",
       "    <tr>\n",
       "      <th>4</th>\n",
       "      <td>1009.0</td>\n",
       "      <td>96.1</td>\n",
       "      <td>Alabama</td>\n",
       "      <td>Blount</td>\n",
       "      <td>20.0</td>\n",
       "      <td>36.0</td>\n",
       "      <td>8.5</td>\n",
       "      <td>32.0</td>\n",
       "      <td>21.0</td>\n",
       "      <td>9.0</td>\n",
       "      <td>53.9</td>\n",
       "      <td>5.5</td>\n",
       "      <td>4.1</td>\n",
       "      <td>212.0</td>\n",
       "      <td>11.3</td>\n",
       "      <td>60.0</td>\n",
       "      <td>90.0</td>\n",
       "    </tr>\n",
       "  </tbody>\n",
       "</table>\n",
       "</div>\n",
       "      <button class=\"colab-df-convert\" onclick=\"convertToInteractive('df-e5f3a63b-3b84-45dd-828c-1ecf6987579e')\"\n",
       "              title=\"Convert this dataframe to an interactive table.\"\n",
       "              style=\"display:none;\">\n",
       "        \n",
       "  <svg xmlns=\"http://www.w3.org/2000/svg\" height=\"24px\"viewBox=\"0 0 24 24\"\n",
       "       width=\"24px\">\n",
       "    <path d=\"M0 0h24v24H0V0z\" fill=\"none\"/>\n",
       "    <path d=\"M18.56 5.44l.94 2.06.94-2.06 2.06-.94-2.06-.94-.94-2.06-.94 2.06-2.06.94zm-11 1L8.5 8.5l.94-2.06 2.06-.94-2.06-.94L8.5 2.5l-.94 2.06-2.06.94zm10 10l.94 2.06.94-2.06 2.06-.94-2.06-.94-.94-2.06-.94 2.06-2.06.94z\"/><path d=\"M17.41 7.96l-1.37-1.37c-.4-.4-.92-.59-1.43-.59-.52 0-1.04.2-1.43.59L10.3 9.45l-7.72 7.72c-.78.78-.78 2.05 0 2.83L4 21.41c.39.39.9.59 1.41.59.51 0 1.02-.2 1.41-.59l7.78-7.78 2.81-2.81c.8-.78.8-2.07 0-2.86zM5.41 20L4 18.59l7.72-7.72 1.47 1.35L5.41 20z\"/>\n",
       "  </svg>\n",
       "      </button>\n",
       "      \n",
       "  <style>\n",
       "    .colab-df-container {\n",
       "      display:flex;\n",
       "      flex-wrap:wrap;\n",
       "      gap: 12px;\n",
       "    }\n",
       "\n",
       "    .colab-df-convert {\n",
       "      background-color: #E8F0FE;\n",
       "      border: none;\n",
       "      border-radius: 50%;\n",
       "      cursor: pointer;\n",
       "      display: none;\n",
       "      fill: #1967D2;\n",
       "      height: 32px;\n",
       "      padding: 0 0 0 0;\n",
       "      width: 32px;\n",
       "    }\n",
       "\n",
       "    .colab-df-convert:hover {\n",
       "      background-color: #E2EBFA;\n",
       "      box-shadow: 0px 1px 2px rgba(60, 64, 67, 0.3), 0px 1px 3px 1px rgba(60, 64, 67, 0.15);\n",
       "      fill: #174EA6;\n",
       "    }\n",
       "\n",
       "    [theme=dark] .colab-df-convert {\n",
       "      background-color: #3B4455;\n",
       "      fill: #D2E3FC;\n",
       "    }\n",
       "\n",
       "    [theme=dark] .colab-df-convert:hover {\n",
       "      background-color: #434B5C;\n",
       "      box-shadow: 0px 1px 3px 1px rgba(0, 0, 0, 0.15);\n",
       "      filter: drop-shadow(0px 1px 2px rgba(0, 0, 0, 0.3));\n",
       "      fill: #FFFFFF;\n",
       "    }\n",
       "  </style>\n",
       "\n",
       "      <script>\n",
       "        const buttonEl =\n",
       "          document.querySelector('#df-e5f3a63b-3b84-45dd-828c-1ecf6987579e button.colab-df-convert');\n",
       "        buttonEl.style.display =\n",
       "          google.colab.kernel.accessAllowed ? 'block' : 'none';\n",
       "\n",
       "        async function convertToInteractive(key) {\n",
       "          const element = document.querySelector('#df-e5f3a63b-3b84-45dd-828c-1ecf6987579e');\n",
       "          const dataTable =\n",
       "            await google.colab.kernel.invokeFunction('convertToInteractive',\n",
       "                                                     [key], {});\n",
       "          if (!dataTable) return;\n",
       "\n",
       "          const docLinkHtml = 'Like what you see? Visit the ' +\n",
       "            '<a target=\"_blank\" href=https://colab.research.google.com/notebooks/data_table.ipynb>data table notebook</a>'\n",
       "            + ' to learn more about interactive tables.';\n",
       "          element.innerHTML = '';\n",
       "          dataTable['output_type'] = 'display_data';\n",
       "          await google.colab.output.renderOutput(dataTable, element);\n",
       "          const docLink = document.createElement('div');\n",
       "          docLink.innerHTML = docLinkHtml;\n",
       "          element.appendChild(docLink);\n",
       "        }\n",
       "      </script>\n",
       "    </div>\n",
       "  </div>\n",
       "  "
      ],
      "text/plain": [
       "     FIPS  Num_Per_100k    State   County  Percent_Smokers  Percent_Obese  \\\n",
       "0  1001.0         107.0  Alabama  Autauga             19.0           36.0   \n",
       "1  1003.0          82.5  Alabama  Baldwin             17.0           29.0   \n",
       "2  1005.0          96.1  Alabama  Barbour             22.0           44.0   \n",
       "3  1007.0         112.3  Alabama     Bibb             20.0           38.0   \n",
       "4  1009.0          96.1  Alabama   Blount             20.0           36.0   \n",
       "\n",
       "   Food_Environment_Index  Percent_Access_Exercise  \\\n",
       "0                     7.1                     71.0   \n",
       "1                     7.9                     69.0   \n",
       "2                     5.5                     53.0   \n",
       "3                     7.6                     49.0   \n",
       "4                     8.5                     32.0   \n",
       "\n",
       "   Primary_Care_Physician_Rate  Mental_Health_Providers_Rate  \\\n",
       "0                         45.0                          13.0   \n",
       "1                         73.0                          89.0   \n",
       "2                         42.0                           8.0   \n",
       "3                         53.0                           9.0   \n",
       "4                         21.0                           9.0   \n",
       "\n",
       "   Percent_Some_College  Percent_Unemployed  Income_Inequality_Ratio  \\\n",
       "0                  61.9                 5.3                      4.4   \n",
       "1                  63.8                 5.4                      4.6   \n",
       "2                  39.7                 8.6                      5.9   \n",
       "3                  49.8                 6.6                      4.2   \n",
       "4                  53.9                 5.5                      4.1   \n",
       "\n",
       "   Violent_Crime_Rate  Average_Daily_Air_Polution_Particle_Matter  \\\n",
       "0               266.0                                        10.8   \n",
       "1               217.0                                         9.6   \n",
       "2               329.0                                        10.1   \n",
       "3               147.0                                        10.5   \n",
       "4               212.0                                        11.3   \n",
       "\n",
       "   Percent_Long_Commute_Drives_Alone  Percent_Rural  \n",
       "0                               41.0           42.0  \n",
       "1                               40.0           42.3  \n",
       "2                               35.0           67.8  \n",
       "3                               49.0           68.4  \n",
       "4                               60.0           90.0  "
      ]
     },
     "execution_count": 3,
     "metadata": {},
     "output_type": "execute_result"
    }
   ],
   "source": [
    "# Pull in working dataset from database\n",
    "sql = \"\"\"\n",
    "SELECT \"FIPS\", \"Num_Per_100k\", \"State\", \"County\", \"Percent_Smokers\", \"Percent_Obese\", \"Food_Environment_Index\", \"Percent_Access_Exercise\", \"Primary_Care_Physician_Rate\", \"Mental_Health_Providers_Rate\", \"Percent_Some_College\", \"Percent_Unemployed\", \"Income_Inequality_Ratio\", \"Violent_Crime_Rate\", \"Average_Daily_Air_Polution_Particle_Matter\", \"Percent_Long_Commute_Drives_Alone\", \"Percent_Rural\"\n",
    "FROM public.\"All_Data\"\n",
    "\"\"\"\n",
    "\n",
    "all_data_df = pd.read_sql(sql, con=engine)\n",
    "all_data_df.head()"
   ]
  },
  {
   "cell_type": "markdown",
   "metadata": {
    "id": "D84Dn78ICqel"
   },
   "source": [
    "Random Forest Regressor - function"
   ]
  },
  {
   "cell_type": "code",
   "execution_count": 4,
   "metadata": {
    "id": "8ldCeQS1z8Bs"
   },
   "outputs": [],
   "source": [
    "def rfr_machine(X, y) : \n",
    "    # Divide data into training and testing sets\n",
    "    X_train, X_test, y_train, y_test = train_test_split(X, y, test_size=0.2, random_state=0)\n",
    "\n",
    "    # Feature Scaling\n",
    "    sc = StandardScaler()\n",
    "    X_train = sc.fit_transform(X_train)\n",
    "    X_test = sc.transform(X_test)\n",
    "\n",
    "    # Train random forest algorithm to solve this regression problem\n",
    "    regressor = RandomForestRegressor(n_estimators=50, random_state=0)\n",
    "    regressor.fit(X_train, y_train)\n",
    "    y_pred = regressor.predict(X_test)\n",
    "\n",
    "    print('Mean Absolute Error:', metrics.mean_absolute_error(y_test, y_pred))\n",
    "    print('Mean Squared Error:', metrics.mean_squared_error(y_test, y_pred))\n",
    "    print('Root Mean Squared Error:', np.sqrt(metrics.mean_squared_error(y_test, y_pred)))"
   ]
  },
  {
   "cell_type": "markdown",
   "metadata": {
    "id": "IZmEX1pK2knU"
   },
   "source": [
    "Prepare cleaned data for machine"
   ]
  },
  {
   "cell_type": "code",
   "execution_count": 6,
   "metadata": {
    "colab": {
     "base_uri": "https://localhost:8080/"
    },
    "id": "FubND573tnme",
    "outputId": "b8b644c0-ff43-4278-8090-224d7571100e"
   },
   "outputs": [
    {
     "data": {
      "text/plain": [
       "FIPS                                            0\n",
       "Num_Per_100k                                    7\n",
       "State                                           0\n",
       "County                                          0\n",
       "Percent_Smokers                                 0\n",
       "Percent_Obese                                   0\n",
       "Food_Environment_Index                         19\n",
       "Percent_Access_Exercise                         6\n",
       "Primary_Care_Physician_Rate                   134\n",
       "Mental_Health_Providers_Rate                  264\n",
       "Percent_Some_College                            0\n",
       "Percent_Unemployed                              1\n",
       "Income_Inequality_Ratio                         2\n",
       "Violent_Crime_Rate                            176\n",
       "Average_Daily_Air_Polution_Particle_Matter     34\n",
       "Percent_Long_Commute_Drives_Alone               0\n",
       "Percent_Rural                                   7\n",
       "dtype: int64"
      ]
     },
     "execution_count": 6,
     "metadata": {},
     "output_type": "execute_result"
    }
   ],
   "source": [
    "# Check for null values\n",
    "all_data_df.isnull().sum()"
   ]
  },
  {
   "cell_type": "code",
   "execution_count": 7,
   "metadata": {
    "id": "uRqNh52VeTdF"
   },
   "outputs": [],
   "source": [
    "# Drop null values\n",
    "all_data_df = all_data_df.dropna(axis=0)"
   ]
  },
  {
   "cell_type": "code",
   "execution_count": null,
   "metadata": {
    "id": "TztloevlMKhI"
   },
   "outputs": [],
   "source": [
    "# Drop identifier columns\n",
    "all_data_usable_df = all_data_df.drop([\"FIPS\", \"State\", \"County\"], 1)"
   ]
  },
  {
   "cell_type": "code",
   "execution_count": 9,
   "metadata": {
    "colab": {
     "base_uri": "https://localhost:8080/"
    },
    "id": "819qcbw61xFw",
    "outputId": "ac4ea8fe-8582-40c5-af43-abbfc780ae55"
   },
   "outputs": [
    {
     "name": "stderr",
     "output_type": "stream",
     "text": [
      "/usr/local/lib/python3.7/dist-packages/ipykernel_launcher.py:4: FutureWarning: In a future version of pandas all arguments of DataFrame.drop except for the argument 'labels' will be keyword-only\n",
      "  after removing the cwd from sys.path.\n"
     ]
    }
   ],
   "source": [
    "# https://stackabuse.com/random-forest-algorithm-with-python-and-scikit-learn/\n",
    "# Divide data into attributes and labels\n",
    "\n",
    "X = all_data_usable_df.drop([\"Num_Per_100k\"], 1)\n",
    "y = all_data_usable_df[\"Num_Per_100k\"]"
   ]
  },
  {
   "cell_type": "code",
   "execution_count": 10,
   "metadata": {
    "colab": {
     "base_uri": "https://localhost:8080/"
    },
    "id": "p8ltDYiL2tsX",
    "outputId": "4c0dd070-8f51-4e07-d27f-341a83dfe318"
   },
   "outputs": [
    {
     "name": "stdout",
     "output_type": "stream",
     "text": [
      "Mean Absolute Error: 9.381482041587901\n",
      "Mean Squared Error: 147.05343147069945\n",
      "Root Mean Squared Error: 12.12655892950261\n"
     ]
    }
   ],
   "source": [
    "# Call function to run machine\n",
    "\n",
    "rfr_machine(X, y)"
   ]
  },
  {
   "cell_type": "markdown",
   "metadata": {
    "id": "pul99ZcrEBWO"
   },
   "source": [
    "Random Forest Regressor - health features"
   ]
  },
  {
   "cell_type": "code",
   "execution_count": 11,
   "metadata": {
    "colab": {
     "base_uri": "https://localhost:8080/",
     "height": 243
    },
    "id": "tKkKyL77Np8h",
    "outputId": "38d7988e-9d48-4dd3-8265-3fc79e934343"
   },
   "outputs": [
    {
     "name": "stderr",
     "output_type": "stream",
     "text": [
      "/usr/local/lib/python3.7/dist-packages/ipykernel_launcher.py:2: FutureWarning: In a future version of pandas all arguments of DataFrame.drop except for the argument 'labels' will be keyword-only\n",
      "  \n"
     ]
    },
    {
     "data": {
      "text/html": [
       "\n",
       "  <div id=\"df-b7b8e34e-5af6-4955-a6c3-27ba18d34f80\">\n",
       "    <div class=\"colab-df-container\">\n",
       "      <div>\n",
       "<style scoped>\n",
       "    .dataframe tbody tr th:only-of-type {\n",
       "        vertical-align: middle;\n",
       "    }\n",
       "\n",
       "    .dataframe tbody tr th {\n",
       "        vertical-align: top;\n",
       "    }\n",
       "\n",
       "    .dataframe thead th {\n",
       "        text-align: right;\n",
       "    }\n",
       "</style>\n",
       "<table border=\"1\" class=\"dataframe\">\n",
       "  <thead>\n",
       "    <tr style=\"text-align: right;\">\n",
       "      <th></th>\n",
       "      <th>Num_Per_100k</th>\n",
       "      <th>Percent_Smokers</th>\n",
       "      <th>Percent_Obese</th>\n",
       "      <th>Food_Environment_Index</th>\n",
       "      <th>Percent_Access_Exercise</th>\n",
       "      <th>Primary_Care_Physician_Rate</th>\n",
       "      <th>Mental_Health_Providers_Rate</th>\n",
       "    </tr>\n",
       "  </thead>\n",
       "  <tbody>\n",
       "    <tr>\n",
       "      <th>0</th>\n",
       "      <td>107.0</td>\n",
       "      <td>19.0</td>\n",
       "      <td>36.0</td>\n",
       "      <td>7.1</td>\n",
       "      <td>71.0</td>\n",
       "      <td>45.0</td>\n",
       "      <td>13.0</td>\n",
       "    </tr>\n",
       "    <tr>\n",
       "      <th>1</th>\n",
       "      <td>82.5</td>\n",
       "      <td>17.0</td>\n",
       "      <td>29.0</td>\n",
       "      <td>7.9</td>\n",
       "      <td>69.0</td>\n",
       "      <td>73.0</td>\n",
       "      <td>89.0</td>\n",
       "    </tr>\n",
       "    <tr>\n",
       "      <th>2</th>\n",
       "      <td>96.1</td>\n",
       "      <td>22.0</td>\n",
       "      <td>44.0</td>\n",
       "      <td>5.5</td>\n",
       "      <td>53.0</td>\n",
       "      <td>42.0</td>\n",
       "      <td>8.0</td>\n",
       "    </tr>\n",
       "    <tr>\n",
       "      <th>3</th>\n",
       "      <td>112.3</td>\n",
       "      <td>20.0</td>\n",
       "      <td>38.0</td>\n",
       "      <td>7.6</td>\n",
       "      <td>49.0</td>\n",
       "      <td>53.0</td>\n",
       "      <td>9.0</td>\n",
       "    </tr>\n",
       "    <tr>\n",
       "      <th>4</th>\n",
       "      <td>96.1</td>\n",
       "      <td>20.0</td>\n",
       "      <td>36.0</td>\n",
       "      <td>8.5</td>\n",
       "      <td>32.0</td>\n",
       "      <td>21.0</td>\n",
       "      <td>9.0</td>\n",
       "    </tr>\n",
       "  </tbody>\n",
       "</table>\n",
       "</div>\n",
       "      <button class=\"colab-df-convert\" onclick=\"convertToInteractive('df-b7b8e34e-5af6-4955-a6c3-27ba18d34f80')\"\n",
       "              title=\"Convert this dataframe to an interactive table.\"\n",
       "              style=\"display:none;\">\n",
       "        \n",
       "  <svg xmlns=\"http://www.w3.org/2000/svg\" height=\"24px\"viewBox=\"0 0 24 24\"\n",
       "       width=\"24px\">\n",
       "    <path d=\"M0 0h24v24H0V0z\" fill=\"none\"/>\n",
       "    <path d=\"M18.56 5.44l.94 2.06.94-2.06 2.06-.94-2.06-.94-.94-2.06-.94 2.06-2.06.94zm-11 1L8.5 8.5l.94-2.06 2.06-.94-2.06-.94L8.5 2.5l-.94 2.06-2.06.94zm10 10l.94 2.06.94-2.06 2.06-.94-2.06-.94-.94-2.06-.94 2.06-2.06.94z\"/><path d=\"M17.41 7.96l-1.37-1.37c-.4-.4-.92-.59-1.43-.59-.52 0-1.04.2-1.43.59L10.3 9.45l-7.72 7.72c-.78.78-.78 2.05 0 2.83L4 21.41c.39.39.9.59 1.41.59.51 0 1.02-.2 1.41-.59l7.78-7.78 2.81-2.81c.8-.78.8-2.07 0-2.86zM5.41 20L4 18.59l7.72-7.72 1.47 1.35L5.41 20z\"/>\n",
       "  </svg>\n",
       "      </button>\n",
       "      \n",
       "  <style>\n",
       "    .colab-df-container {\n",
       "      display:flex;\n",
       "      flex-wrap:wrap;\n",
       "      gap: 12px;\n",
       "    }\n",
       "\n",
       "    .colab-df-convert {\n",
       "      background-color: #E8F0FE;\n",
       "      border: none;\n",
       "      border-radius: 50%;\n",
       "      cursor: pointer;\n",
       "      display: none;\n",
       "      fill: #1967D2;\n",
       "      height: 32px;\n",
       "      padding: 0 0 0 0;\n",
       "      width: 32px;\n",
       "    }\n",
       "\n",
       "    .colab-df-convert:hover {\n",
       "      background-color: #E2EBFA;\n",
       "      box-shadow: 0px 1px 2px rgba(60, 64, 67, 0.3), 0px 1px 3px 1px rgba(60, 64, 67, 0.15);\n",
       "      fill: #174EA6;\n",
       "    }\n",
       "\n",
       "    [theme=dark] .colab-df-convert {\n",
       "      background-color: #3B4455;\n",
       "      fill: #D2E3FC;\n",
       "    }\n",
       "\n",
       "    [theme=dark] .colab-df-convert:hover {\n",
       "      background-color: #434B5C;\n",
       "      box-shadow: 0px 1px 3px 1px rgba(0, 0, 0, 0.15);\n",
       "      filter: drop-shadow(0px 1px 2px rgba(0, 0, 0, 0.3));\n",
       "      fill: #FFFFFF;\n",
       "    }\n",
       "  </style>\n",
       "\n",
       "      <script>\n",
       "        const buttonEl =\n",
       "          document.querySelector('#df-b7b8e34e-5af6-4955-a6c3-27ba18d34f80 button.colab-df-convert');\n",
       "        buttonEl.style.display =\n",
       "          google.colab.kernel.accessAllowed ? 'block' : 'none';\n",
       "\n",
       "        async function convertToInteractive(key) {\n",
       "          const element = document.querySelector('#df-b7b8e34e-5af6-4955-a6c3-27ba18d34f80');\n",
       "          const dataTable =\n",
       "            await google.colab.kernel.invokeFunction('convertToInteractive',\n",
       "                                                     [key], {});\n",
       "          if (!dataTable) return;\n",
       "\n",
       "          const docLinkHtml = 'Like what you see? Visit the ' +\n",
       "            '<a target=\"_blank\" href=https://colab.research.google.com/notebooks/data_table.ipynb>data table notebook</a>'\n",
       "            + ' to learn more about interactive tables.';\n",
       "          element.innerHTML = '';\n",
       "          dataTable['output_type'] = 'display_data';\n",
       "          await google.colab.output.renderOutput(dataTable, element);\n",
       "          const docLink = document.createElement('div');\n",
       "          docLink.innerHTML = docLinkHtml;\n",
       "          element.appendChild(docLink);\n",
       "        }\n",
       "      </script>\n",
       "    </div>\n",
       "  </div>\n",
       "  "
      ],
      "text/plain": [
       "   Num_Per_100k  Percent_Smokers  Percent_Obese  Food_Environment_Index  \\\n",
       "0         107.0             19.0           36.0                     7.1   \n",
       "1          82.5             17.0           29.0                     7.9   \n",
       "2          96.1             22.0           44.0                     5.5   \n",
       "3         112.3             20.0           38.0                     7.6   \n",
       "4          96.1             20.0           36.0                     8.5   \n",
       "\n",
       "   Percent_Access_Exercise  Primary_Care_Physician_Rate  \\\n",
       "0                     71.0                         45.0   \n",
       "1                     69.0                         73.0   \n",
       "2                     53.0                         42.0   \n",
       "3                     49.0                         53.0   \n",
       "4                     32.0                         21.0   \n",
       "\n",
       "   Mental_Health_Providers_Rate  \n",
       "0                          13.0  \n",
       "1                          89.0  \n",
       "2                           8.0  \n",
       "3                           9.0  \n",
       "4                           9.0  "
      ]
     },
     "execution_count": 11,
     "metadata": {},
     "output_type": "execute_result"
    }
   ],
   "source": [
    "# Drop non-health feature columns\n",
    "health_features_df = all_data_usable_df.drop([\"Percent_Rural\", \"Percent_Long_Commute_Drives_Alone\", \"Average_Daily_Air_Polution_Particle_Matter\", \"Violent_Crime_Rate\", \"Income_Inequality_Ratio\", \"Percent_Unemployed\", \"Percent_Some_College\"], 1)\n",
    "health_features_df.head()"
   ]
  },
  {
   "cell_type": "code",
   "execution_count": 12,
   "metadata": {
    "id": "rHM2DLIFRI1H"
   },
   "outputs": [],
   "source": [
    "# Divide into attributes and labels\n",
    "X = all_data_usable_df.iloc[:, 1:7].values\n",
    "y = all_data_usable_df.iloc[:, 0].values"
   ]
  },
  {
   "cell_type": "code",
   "execution_count": 13,
   "metadata": {
    "colab": {
     "base_uri": "https://localhost:8080/"
    },
    "id": "lVp8NUoW3KNB",
    "outputId": "00a4a30b-0a1b-412c-f132-2ed9b7c6da94"
   },
   "outputs": [
    {
     "name": "stdout",
     "output_type": "stream",
     "text": [
      "Mean Absolute Error: 10.262215500945178\n",
      "Mean Squared Error: 172.17535106238185\n",
      "Root Mean Squared Error: 13.121560542190927\n"
     ]
    }
   ],
   "source": [
    "# Call function to run machine on just health features\n",
    "\n",
    "rfr_machine(X, y)"
   ]
  },
  {
   "cell_type": "markdown",
   "metadata": {
    "id": "hZUOXG_nEwhA"
   },
   "source": [
    "Random Forest Regressor - environment / economic features"
   ]
  },
  {
   "cell_type": "code",
   "execution_count": 14,
   "metadata": {
    "colab": {
     "base_uri": "https://localhost:8080/",
     "height": 243
    },
    "id": "yWbaJm7QKdqj",
    "outputId": "6ef22d62-164b-41bc-eda5-e53a0bd664eb"
   },
   "outputs": [
    {
     "name": "stderr",
     "output_type": "stream",
     "text": [
      "/usr/local/lib/python3.7/dist-packages/ipykernel_launcher.py:1: FutureWarning: In a future version of pandas all arguments of DataFrame.drop except for the argument 'labels' will be keyword-only\n",
      "  \"\"\"Entry point for launching an IPython kernel.\n"
     ]
    },
    {
     "data": {
      "text/html": [
       "\n",
       "  <div id=\"df-347cce7a-72f2-44e0-b010-e05f538a0f94\">\n",
       "    <div class=\"colab-df-container\">\n",
       "      <div>\n",
       "<style scoped>\n",
       "    .dataframe tbody tr th:only-of-type {\n",
       "        vertical-align: middle;\n",
       "    }\n",
       "\n",
       "    .dataframe tbody tr th {\n",
       "        vertical-align: top;\n",
       "    }\n",
       "\n",
       "    .dataframe thead th {\n",
       "        text-align: right;\n",
       "    }\n",
       "</style>\n",
       "<table border=\"1\" class=\"dataframe\">\n",
       "  <thead>\n",
       "    <tr style=\"text-align: right;\">\n",
       "      <th></th>\n",
       "      <th>Num_Per_100k</th>\n",
       "      <th>Percent_Some_College</th>\n",
       "      <th>Percent_Unemployed</th>\n",
       "      <th>Income_Inequality_Ratio</th>\n",
       "      <th>Violent_Crime_Rate</th>\n",
       "      <th>Average_Daily_Air_Polution_Particle_Matter</th>\n",
       "      <th>Percent_Long_Commute_Drives_Alone</th>\n",
       "      <th>Percent_Rural</th>\n",
       "    </tr>\n",
       "  </thead>\n",
       "  <tbody>\n",
       "    <tr>\n",
       "      <th>0</th>\n",
       "      <td>107.0</td>\n",
       "      <td>61.9</td>\n",
       "      <td>5.3</td>\n",
       "      <td>4.4</td>\n",
       "      <td>266.0</td>\n",
       "      <td>10.8</td>\n",
       "      <td>41.0</td>\n",
       "      <td>42.0</td>\n",
       "    </tr>\n",
       "    <tr>\n",
       "      <th>1</th>\n",
       "      <td>82.5</td>\n",
       "      <td>63.8</td>\n",
       "      <td>5.4</td>\n",
       "      <td>4.6</td>\n",
       "      <td>217.0</td>\n",
       "      <td>9.6</td>\n",
       "      <td>40.0</td>\n",
       "      <td>42.3</td>\n",
       "    </tr>\n",
       "    <tr>\n",
       "      <th>2</th>\n",
       "      <td>96.1</td>\n",
       "      <td>39.7</td>\n",
       "      <td>8.6</td>\n",
       "      <td>5.9</td>\n",
       "      <td>329.0</td>\n",
       "      <td>10.1</td>\n",
       "      <td>35.0</td>\n",
       "      <td>67.8</td>\n",
       "    </tr>\n",
       "    <tr>\n",
       "      <th>3</th>\n",
       "      <td>112.3</td>\n",
       "      <td>49.8</td>\n",
       "      <td>6.6</td>\n",
       "      <td>4.2</td>\n",
       "      <td>147.0</td>\n",
       "      <td>10.5</td>\n",
       "      <td>49.0</td>\n",
       "      <td>68.4</td>\n",
       "    </tr>\n",
       "    <tr>\n",
       "      <th>4</th>\n",
       "      <td>96.1</td>\n",
       "      <td>53.9</td>\n",
       "      <td>5.5</td>\n",
       "      <td>4.1</td>\n",
       "      <td>212.0</td>\n",
       "      <td>11.3</td>\n",
       "      <td>60.0</td>\n",
       "      <td>90.0</td>\n",
       "    </tr>\n",
       "  </tbody>\n",
       "</table>\n",
       "</div>\n",
       "      <button class=\"colab-df-convert\" onclick=\"convertToInteractive('df-347cce7a-72f2-44e0-b010-e05f538a0f94')\"\n",
       "              title=\"Convert this dataframe to an interactive table.\"\n",
       "              style=\"display:none;\">\n",
       "        \n",
       "  <svg xmlns=\"http://www.w3.org/2000/svg\" height=\"24px\"viewBox=\"0 0 24 24\"\n",
       "       width=\"24px\">\n",
       "    <path d=\"M0 0h24v24H0V0z\" fill=\"none\"/>\n",
       "    <path d=\"M18.56 5.44l.94 2.06.94-2.06 2.06-.94-2.06-.94-.94-2.06-.94 2.06-2.06.94zm-11 1L8.5 8.5l.94-2.06 2.06-.94-2.06-.94L8.5 2.5l-.94 2.06-2.06.94zm10 10l.94 2.06.94-2.06 2.06-.94-2.06-.94-.94-2.06-.94 2.06-2.06.94z\"/><path d=\"M17.41 7.96l-1.37-1.37c-.4-.4-.92-.59-1.43-.59-.52 0-1.04.2-1.43.59L10.3 9.45l-7.72 7.72c-.78.78-.78 2.05 0 2.83L4 21.41c.39.39.9.59 1.41.59.51 0 1.02-.2 1.41-.59l7.78-7.78 2.81-2.81c.8-.78.8-2.07 0-2.86zM5.41 20L4 18.59l7.72-7.72 1.47 1.35L5.41 20z\"/>\n",
       "  </svg>\n",
       "      </button>\n",
       "      \n",
       "  <style>\n",
       "    .colab-df-container {\n",
       "      display:flex;\n",
       "      flex-wrap:wrap;\n",
       "      gap: 12px;\n",
       "    }\n",
       "\n",
       "    .colab-df-convert {\n",
       "      background-color: #E8F0FE;\n",
       "      border: none;\n",
       "      border-radius: 50%;\n",
       "      cursor: pointer;\n",
       "      display: none;\n",
       "      fill: #1967D2;\n",
       "      height: 32px;\n",
       "      padding: 0 0 0 0;\n",
       "      width: 32px;\n",
       "    }\n",
       "\n",
       "    .colab-df-convert:hover {\n",
       "      background-color: #E2EBFA;\n",
       "      box-shadow: 0px 1px 2px rgba(60, 64, 67, 0.3), 0px 1px 3px 1px rgba(60, 64, 67, 0.15);\n",
       "      fill: #174EA6;\n",
       "    }\n",
       "\n",
       "    [theme=dark] .colab-df-convert {\n",
       "      background-color: #3B4455;\n",
       "      fill: #D2E3FC;\n",
       "    }\n",
       "\n",
       "    [theme=dark] .colab-df-convert:hover {\n",
       "      background-color: #434B5C;\n",
       "      box-shadow: 0px 1px 3px 1px rgba(0, 0, 0, 0.15);\n",
       "      filter: drop-shadow(0px 1px 2px rgba(0, 0, 0, 0.3));\n",
       "      fill: #FFFFFF;\n",
       "    }\n",
       "  </style>\n",
       "\n",
       "      <script>\n",
       "        const buttonEl =\n",
       "          document.querySelector('#df-347cce7a-72f2-44e0-b010-e05f538a0f94 button.colab-df-convert');\n",
       "        buttonEl.style.display =\n",
       "          google.colab.kernel.accessAllowed ? 'block' : 'none';\n",
       "\n",
       "        async function convertToInteractive(key) {\n",
       "          const element = document.querySelector('#df-347cce7a-72f2-44e0-b010-e05f538a0f94');\n",
       "          const dataTable =\n",
       "            await google.colab.kernel.invokeFunction('convertToInteractive',\n",
       "                                                     [key], {});\n",
       "          if (!dataTable) return;\n",
       "\n",
       "          const docLinkHtml = 'Like what you see? Visit the ' +\n",
       "            '<a target=\"_blank\" href=https://colab.research.google.com/notebooks/data_table.ipynb>data table notebook</a>'\n",
       "            + ' to learn more about interactive tables.';\n",
       "          element.innerHTML = '';\n",
       "          dataTable['output_type'] = 'display_data';\n",
       "          await google.colab.output.renderOutput(dataTable, element);\n",
       "          const docLink = document.createElement('div');\n",
       "          docLink.innerHTML = docLinkHtml;\n",
       "          element.appendChild(docLink);\n",
       "        }\n",
       "      </script>\n",
       "    </div>\n",
       "  </div>\n",
       "  "
      ],
      "text/plain": [
       "   Num_Per_100k  Percent_Some_College  Percent_Unemployed  \\\n",
       "0         107.0                  61.9                 5.3   \n",
       "1          82.5                  63.8                 5.4   \n",
       "2          96.1                  39.7                 8.6   \n",
       "3         112.3                  49.8                 6.6   \n",
       "4          96.1                  53.9                 5.5   \n",
       "\n",
       "   Income_Inequality_Ratio  Violent_Crime_Rate  \\\n",
       "0                      4.4               266.0   \n",
       "1                      4.6               217.0   \n",
       "2                      5.9               329.0   \n",
       "3                      4.2               147.0   \n",
       "4                      4.1               212.0   \n",
       "\n",
       "   Average_Daily_Air_Polution_Particle_Matter  \\\n",
       "0                                        10.8   \n",
       "1                                         9.6   \n",
       "2                                        10.1   \n",
       "3                                        10.5   \n",
       "4                                        11.3   \n",
       "\n",
       "   Percent_Long_Commute_Drives_Alone  Percent_Rural  \n",
       "0                               41.0           42.0  \n",
       "1                               40.0           42.3  \n",
       "2                               35.0           67.8  \n",
       "3                               49.0           68.4  \n",
       "4                               60.0           90.0  "
      ]
     },
     "execution_count": 14,
     "metadata": {},
     "output_type": "execute_result"
    }
   ],
   "source": [
    "ee_features_df = all_data_usable_df.drop([\"Percent_Smokers\", \"Percent_Obese\", \"Food_Environment_Index\", \"Percent_Access_Exercise\", \"Primary_Care_Physician_Rate\", \"Mental_Health_Providers_Rate\"], 1)\n",
    "ee_features_df.head()"
   ]
  },
  {
   "cell_type": "code",
   "execution_count": 15,
   "metadata": {
    "id": "8B9QIgSC6YzN"
   },
   "outputs": [],
   "source": [
    "# Divide into attributes and labels\n",
    "X = all_data_usable_df.iloc[:, 1:6].values\n",
    "y = all_data_usable_df.iloc[:, 0].values"
   ]
  },
  {
   "cell_type": "code",
   "execution_count": 16,
   "metadata": {
    "colab": {
     "base_uri": "https://localhost:8080/"
    },
    "id": "jZH8zCSd3Sq1",
    "outputId": "aaf95c94-8022-4dd5-af7f-1a7ba898a019"
   },
   "outputs": [
    {
     "name": "stdout",
     "output_type": "stream",
     "text": [
      "Mean Absolute Error: 10.329909262759925\n",
      "Mean Squared Error: 174.4235131115312\n",
      "Root Mean Squared Error: 13.20694942488731\n"
     ]
    }
   ],
   "source": [
    "# Call function to run machine on just environment / economic features\n",
    "\n",
    "rfr_machine(X, y)"
   ]
  }
 ],
 "metadata": {
  "colab": {
   "collapsed_sections": [],
   "name": "DB_connect_RFR_functions.ipynb",
   "provenance": []
  },
  "kernelspec": {
   "display_name": "Python 3 (ipykernel)",
   "language": "python",
   "name": "python3"
  },
  "language_info": {
   "codemirror_mode": {
    "name": "ipython",
    "version": 3
   },
   "file_extension": ".py",
   "mimetype": "text/x-python",
   "name": "python",
   "nbconvert_exporter": "python",
   "pygments_lexer": "ipython3",
   "version": "3.9.7"
  }
 },
 "nbformat": 4,
 "nbformat_minor": 1
}
